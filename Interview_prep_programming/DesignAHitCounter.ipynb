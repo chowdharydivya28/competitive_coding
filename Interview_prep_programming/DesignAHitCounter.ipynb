{
 "cells": [
  {
   "cell_type": "code",
   "execution_count": 1,
   "metadata": {},
   "outputs": [],
   "source": [
    "class HitCounter:\n",
    "    def __init__(self):\n",
    "        self.times_of_hit = [0]*301\n",
    "        self.hits = [0]*301\n",
    "        \n",
    "    def add_hit(self, timestamp):\n",
    "        ind = timestamp%300\n",
    "        if self.times_of_hit[ind+1] != timestamp:\n",
    "            self.times_of_hit[ind+1] = timestamp\n",
    "        self.hits[ind+1] += 1\n",
    "        \n",
    "    def get_hit_count(self, timestamp):\n",
    "        total_hits = 0\n",
    "        for i in range(1, 301):\n",
    "            if timestamp - self.times_of_hit[i] < 300:\n",
    "                total_hits += self.hits[i]\n",
    "        return total_hits"
   ]
  },
  {
   "cell_type": "code",
   "execution_count": 9,
   "metadata": {},
   "outputs": [
    {
     "data": {
      "text/plain": [
       "3"
      ]
     },
     "execution_count": 9,
     "metadata": {},
     "output_type": "execute_result"
    }
   ],
   "source": [
    "cntr = HitCounter()\n",
    "cntr.add_hit(1)\n",
    "cntr.add_hit(2)\n",
    "cntr.add_hit(3)\n",
    "cntr.get_hit_count(4)\n",
    "cntr.add_hit(300)\n",
    "cntr.get_hit_count(300)"
   ]
  }
 ],
 "metadata": {
  "kernelspec": {
   "display_name": "Python 3",
   "language": "python",
   "name": "python3"
  },
  "language_info": {
   "codemirror_mode": {
    "name": "ipython",
    "version": 3
   },
   "file_extension": ".py",
   "mimetype": "text/x-python",
   "name": "python",
   "nbconvert_exporter": "python",
   "pygments_lexer": "ipython3",
   "version": "3.7.2"
  }
 },
 "nbformat": 4,
 "nbformat_minor": 2
}
