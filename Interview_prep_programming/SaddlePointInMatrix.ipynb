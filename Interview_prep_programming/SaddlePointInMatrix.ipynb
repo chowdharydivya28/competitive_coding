{
 "cells": [
  {
   "cell_type": "code",
   "execution_count": 47,
   "metadata": {},
   "outputs": [],
   "source": [
    "from collections import defaultdict\n",
    "def find_saddle_points_in_matrix(inp_mat):\n",
    "    if len(inp_mat) == 0:\n",
    "        return None\n",
    "    if len(inp_mat) == 1:\n",
    "        return min(inp_mat[0])\n",
    "    result = []\n",
    "    rows = len(inp_mat)\n",
    "    cols = len(inp_mat[0])\n",
    "    smallest_in_row = defaultdict()\n",
    "    largest_in_col = defaultdict()\n",
    "    for i in range(rows):\n",
    "        smallest_in_row[i] = inp_mat[i].index(min(inp_mat[i]))\n",
    "    for i in range(cols):\n",
    "        cols_i = [inp_mat[j][i] for j in range(rows)]\n",
    "        largest_in_col[i] = cols_i.index(max(cols_i))\n",
    "    print(smallest_in_row)\n",
    "    print(largest_in_col)\n",
    "    for row in range(rows):\n",
    "        for col in range(cols):\n",
    "            if smallest_in_row[row] == col:\n",
    "                if largest_in_col[col] == row:\n",
    "                    result.append(inp_mat[row][col])\n",
    "    return result    \n",
    "    \n",
    "    "
   ]
  },
  {
   "cell_type": "code",
   "execution_count": 48,
   "metadata": {},
   "outputs": [
    {
     "name": "stdout",
     "output_type": "stream",
     "text": [
      "defaultdict(None, {0: 0, 1: 0, 2: 2})\n",
      "defaultdict(None, {0: 2, 1: 2, 2: 1})\n"
     ]
    },
    {
     "data": {
      "text/plain": [
       "[]"
      ]
     },
     "execution_count": 48,
     "metadata": {},
     "output_type": "execute_result"
    }
   ],
   "source": [
    "input_matrix = [[1, 2, 3], [4, 5, 6],[10, 18, 4]]\n",
    "find_saddle_points_in_matrix(input_matrix)"
   ]
  },
  {
   "cell_type": "code",
   "execution_count": 49,
   "metadata": {},
   "outputs": [
    {
     "name": "stdout",
     "output_type": "stream",
     "text": [
      "defaultdict(None, {0: 0, 1: 0, 2: 0})\n",
      "defaultdict(None, {0: 2, 1: 2, 2: 2})\n"
     ]
    },
    {
     "data": {
      "text/plain": [
       "[7]"
      ]
     },
     "execution_count": 49,
     "metadata": {},
     "output_type": "execute_result"
    }
   ],
   "source": [
    "input_matrix = [[1, 2, 3], [4, 5, 6],[7, 8, 9]]\n",
    "find_saddle_points_in_matrix(input_matrix)"
   ]
  },
  {
   "cell_type": "code",
   "execution_count": null,
   "metadata": {},
   "outputs": [],
   "source": []
  },
  {
   "cell_type": "code",
   "execution_count": null,
   "metadata": {},
   "outputs": [],
   "source": []
  }
 ],
 "metadata": {
  "kernelspec": {
   "display_name": "Python 3",
   "language": "python",
   "name": "python3"
  },
  "language_info": {
   "codemirror_mode": {
    "name": "ipython",
    "version": 3
   },
   "file_extension": ".py",
   "mimetype": "text/x-python",
   "name": "python",
   "nbconvert_exporter": "python",
   "pygments_lexer": "ipython3",
   "version": "3.7.2"
  }
 },
 "nbformat": 4,
 "nbformat_minor": 2
}
