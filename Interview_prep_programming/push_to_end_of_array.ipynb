{
 "cells": [
  {
   "cell_type": "code",
   "execution_count": 80,
   "metadata": {},
   "outputs": [],
   "source": [
    "input_list = [[23, 0, 0], [1, 0, 0, 23, 0, 1], [1, 3, 0, 56, 7, 0, 0, 12], [0, 0], []]\n",
    "input_list1 = [1, 0, 0, 23, 0, 1]\n",
    "# input_list = [1, 3, 0, 56, 7, 0, 0, 12]\n",
    "# input_list = [0, 0]\n",
    "# input_list = []"
   ]
  },
  {
   "cell_type": "code",
   "execution_count": 81,
   "metadata": {},
   "outputs": [],
   "source": [
    "def shift_0_to_end(input_lst):\n",
    "    out =[]\n",
    "    count = 0\n",
    "    for i in range(len(input_lst)):\n",
    "        if input_lst[i]!=0:\n",
    "            out.append(input_lst[i])\n",
    "        else:\n",
    "            count += 1\n",
    "    if count:\n",
    "        out = out + [0]*count\n",
    "    return out"
   ]
  },
  {
   "cell_type": "code",
   "execution_count": 82,
   "metadata": {},
   "outputs": [
    {
     "data": {
      "text/plain": [
       "[1, 23, 1, 0, 0, 0]"
      ]
     },
     "execution_count": 82,
     "metadata": {},
     "output_type": "execute_result"
    }
   ],
   "source": [
    "shift_0_to_end(input_list1)"
   ]
  },
  {
   "cell_type": "code",
   "execution_count": 83,
   "metadata": {},
   "outputs": [
    {
     "data": {
      "text/plain": [
       "[[23, 0, 0], [1, 23, 1, 0, 0, 0], [1, 3, 56, 7, 12, 0, 0, 0], [0, 0], []]"
      ]
     },
     "execution_count": 83,
     "metadata": {},
     "output_type": "execute_result"
    }
   ],
   "source": [
    "[shift_0_to_end(x) for x in input_list]"
   ]
  },
  {
   "cell_type": "code",
   "execution_count": null,
   "metadata": {},
   "outputs": [],
   "source": []
  },
  {
   "cell_type": "code",
   "execution_count": null,
   "metadata": {},
   "outputs": [],
   "source": []
  }
 ],
 "metadata": {
  "kernelspec": {
   "display_name": "Python 3",
   "language": "python",
   "name": "python3"
  },
  "language_info": {
   "codemirror_mode": {
    "name": "ipython",
    "version": 3
   },
   "file_extension": ".py",
   "mimetype": "text/x-python",
   "name": "python",
   "nbconvert_exporter": "python",
   "pygments_lexer": "ipython3",
   "version": "3.7.2"
  }
 },
 "nbformat": 4,
 "nbformat_minor": 2
}
