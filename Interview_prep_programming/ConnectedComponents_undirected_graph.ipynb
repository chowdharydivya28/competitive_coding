{
 "cells": [
  {
   "cell_type": "code",
   "execution_count": 24,
   "metadata": {},
   "outputs": [],
   "source": [
    "from collections import defaultdict\n",
    "class graph:\n",
    "    def __init__(self, V):\n",
    "        self.V = V\n",
    "        self.adj_mat = defaultdict(list)\n",
    "    def add_edge(self, u, v):\n",
    "        self.adj_mat[u].append(v)\n",
    "\n",
    "def DFS_util(graph, node, visited, connected_node):\n",
    "    visited[node] = True\n",
    "    connected_node.append(node)\n",
    "    for i in graph.adj_mat[node]:\n",
    "        if visited[i] is False:\n",
    "            DFS_util(graph, i, visited, connected_node)\n",
    "    return connected_node\n",
    "\n",
    "def connected_components(graph):\n",
    "    visited = {i:False for i in range(graph.V)}\n",
    "    all_conn_comp = []\n",
    "    for i in visited:\n",
    "        if visited[i] is False:\n",
    "            ret = DFS_util(graph, i, visited, [])\n",
    "            print(ret)\n",
    "            all_conn_comp.append(ret)\n",
    "    return all_conn_comp"
   ]
  },
  {
   "cell_type": "code",
   "execution_count": 25,
   "metadata": {},
   "outputs": [],
   "source": [
    "g = graph(5)\n",
    "g.add_edge(0, 1)\n",
    "g.add_edge(0, 2)\n",
    "g.add_edge(3, 4)\n"
   ]
  },
  {
   "cell_type": "code",
   "execution_count": 26,
   "metadata": {},
   "outputs": [
    {
     "data": {
      "text/plain": [
       "defaultdict(list, {0: [1, 2], 3: [4]})"
      ]
     },
     "execution_count": 26,
     "metadata": {},
     "output_type": "execute_result"
    }
   ],
   "source": [
    "g.adj_mat"
   ]
  },
  {
   "cell_type": "code",
   "execution_count": 27,
   "metadata": {},
   "outputs": [
    {
     "name": "stdout",
     "output_type": "stream",
     "text": [
      "[0, 1, 2]\n",
      "[3, 4]\n"
     ]
    },
    {
     "data": {
      "text/plain": [
       "[[0, 1, 2], [3, 4]]"
      ]
     },
     "execution_count": 27,
     "metadata": {},
     "output_type": "execute_result"
    }
   ],
   "source": [
    "connected_components(g)"
   ]
  },
  {
   "cell_type": "code",
   "execution_count": 29,
   "metadata": {},
   "outputs": [
    {
     "name": "stdout",
     "output_type": "stream",
     "text": [
      "[0, 1, 2]\n",
      "[3]\n"
     ]
    },
    {
     "data": {
      "text/plain": [
       "[[0, 1, 2], [3]]"
      ]
     },
     "execution_count": 29,
     "metadata": {},
     "output_type": "execute_result"
    }
   ],
   "source": [
    "g = graph(4)\n",
    "connections = [[0,1],[0,2],[1,2]]\n",
    "for i in connections:\n",
    "    g.add_edge(i[0], i[1])\n",
    "connected_components(g)"
   ]
  },
  {
   "cell_type": "code",
   "execution_count": null,
   "metadata": {},
   "outputs": [],
   "source": []
  }
 ],
 "metadata": {
  "kernelspec": {
   "display_name": "Python 3",
   "language": "python",
   "name": "python3"
  },
  "language_info": {
   "codemirror_mode": {
    "name": "ipython",
    "version": 3
   },
   "file_extension": ".py",
   "mimetype": "text/x-python",
   "name": "python",
   "nbconvert_exporter": "python",
   "pygments_lexer": "ipython3",
   "version": "3.7.2"
  }
 },
 "nbformat": 4,
 "nbformat_minor": 2
}
