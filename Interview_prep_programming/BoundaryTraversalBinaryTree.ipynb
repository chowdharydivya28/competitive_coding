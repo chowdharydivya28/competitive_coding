{
 "cells": [
  {
   "cell_type": "code",
   "execution_count": 78,
   "metadata": {},
   "outputs": [],
   "source": [
    "class Node:\n",
    "    def __init__(self, val):\n",
    "        self.val = val\n",
    "        self.left = None\n",
    "        self.right = None\n",
    "        \n",
    "# a function to print leaves of a binary tree from left to right\n",
    "def printLeaves(tree_root):\n",
    "    if tree_root:\n",
    "        printLeaves(tree_root.left)\n",
    "        if tree_root.left is None and tree_root.right is None:\n",
    "            print(tree_root.val)\n",
    "        printLeaves(tree_root.right)\n",
    "\n",
    "def printLeftBoundary(tree_root):\n",
    "    if tree_root:\n",
    "        if tree_root.left:\n",
    "            print(tree_root.val)\n",
    "            printLeftBoundary(tree_root.left)\n",
    "        elif tree_root.right:\n",
    "            print(tree_root.val)\n",
    "            printLeftBoundary(tree_root.right)\n",
    "\n",
    "def printRightBoundary(tree_root):\n",
    "    if not tree_root:\n",
    "        return\n",
    "    if tree_root:\n",
    "        if tree_root.right:\n",
    "            printLeftBoundary(tree_root.right)\n",
    "            print(tree_root.val)\n",
    "        elif tree_root.left:\n",
    "            printLeftBoundary(tree_root.left)\n",
    "            print(tree_root.val)\n",
    "\n",
    "def printBoundary(tree_root):\n",
    "    if tree_root:\n",
    "        print(tree_root.val)\n",
    "        printLeftBoundary(tree_root.left) #IMPORTANT WHAT TO PASS as argument (if you pass just root, root will repeat!)\n",
    "        printLeaves(tree_root)\n",
    "        printRightBoundary(tree_root.right) #IMPORTANT WHAT TO PASS as argument\n",
    "        \n",
    "        "
   ]
  },
  {
   "cell_type": "code",
   "execution_count": 73,
   "metadata": {},
   "outputs": [],
   "source": [
    "root = Node(20)\n",
    "l1 = Node(8)\n",
    "r1 = Node(22)\n",
    "root.left = l1\n",
    "root.right = r1\n",
    "l2 = Node(4)\n",
    "r2 = Node(12)\n",
    "root.left.left = l2\n",
    "root.left.right = r2\n",
    "r3 = Node(25)\n",
    "root.right.right = r3\n",
    "l4 = Node(10)\n",
    "r4 = Node(14)\n",
    "root.left.right.left = l4\n",
    "root.left.right.right = r4"
   ]
  },
  {
   "cell_type": "code",
   "execution_count": 74,
   "metadata": {},
   "outputs": [
    {
     "name": "stdout",
     "output_type": "stream",
     "text": [
      "4\n",
      "10\n",
      "14\n",
      "25\n"
     ]
    }
   ],
   "source": [
    "printLeaves(root)"
   ]
  },
  {
   "cell_type": "code",
   "execution_count": 75,
   "metadata": {},
   "outputs": [
    {
     "name": "stdout",
     "output_type": "stream",
     "text": [
      "20\n",
      "8\n"
     ]
    }
   ],
   "source": [
    "printLeftBoundary(root)"
   ]
  },
  {
   "cell_type": "code",
   "execution_count": 76,
   "metadata": {},
   "outputs": [
    {
     "name": "stdout",
     "output_type": "stream",
     "text": [
      "22\n",
      "20\n"
     ]
    }
   ],
   "source": [
    "printRightBoundary(root)"
   ]
  },
  {
   "cell_type": "code",
   "execution_count": 77,
   "metadata": {},
   "outputs": [
    {
     "name": "stdout",
     "output_type": "stream",
     "text": [
      "20\n",
      "8\n",
      "4\n",
      "10\n",
      "14\n",
      "25\n",
      "22\n"
     ]
    }
   ],
   "source": [
    "printBoundary(root)"
   ]
  },
  {
   "cell_type": "code",
   "execution_count": null,
   "metadata": {},
   "outputs": [],
   "source": []
  }
 ],
 "metadata": {
  "kernelspec": {
   "display_name": "Python 3",
   "language": "python",
   "name": "python3"
  },
  "language_info": {
   "codemirror_mode": {
    "name": "ipython",
    "version": 3
   },
   "file_extension": ".py",
   "mimetype": "text/x-python",
   "name": "python",
   "nbconvert_exporter": "python",
   "pygments_lexer": "ipython3",
   "version": "3.7.2"
  }
 },
 "nbformat": 4,
 "nbformat_minor": 2
}
