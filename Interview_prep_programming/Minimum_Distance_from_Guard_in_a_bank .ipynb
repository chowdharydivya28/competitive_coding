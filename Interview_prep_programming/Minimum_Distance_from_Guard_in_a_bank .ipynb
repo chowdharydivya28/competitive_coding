{
 "cells": [
  {
   "cell_type": "code",
   "execution_count": 86,
   "metadata": {},
   "outputs": [],
   "source": [
    "inp = [['O','O', 'O', 'O', 'G'], ['O',  'W',  'W',  'O',  'O'], ['O',  'O',  'O',  'W',  'O'], ['G',  'W',  'W',  'W',  'O'],\n",
    "  ['O',  'O',  'O',  'O', 'G']]"
   ]
  },
  {
   "cell_type": "code",
   "execution_count": 87,
   "metadata": {},
   "outputs": [
    {
     "data": {
      "text/plain": [
       "[['O', 'O', 'O', 'O', 'G'],\n",
       " ['O', 'W', 'W', 'O', 'O'],\n",
       " ['O', 'O', 'O', 'W', 'O'],\n",
       " ['G', 'W', 'W', 'W', 'O'],\n",
       " ['O', 'O', 'O', 'O', 'G']]"
      ]
     },
     "execution_count": 87,
     "metadata": {},
     "output_type": "execute_result"
    }
   ],
   "source": [
    "inp"
   ]
  },
  {
   "cell_type": "code",
   "execution_count": 113,
   "metadata": {},
   "outputs": [],
   "source": [
    "from collections import deque as queue \n",
    "def isValid(x, y, row, col):\n",
    "    return x<row and x>=0 and y < col and y >= 0"
   ]
  },
  {
   "cell_type": "code",
   "execution_count": 112,
   "metadata": {},
   "outputs": [],
   "source": [
    "  \n",
    "def findNeighbors(x, y):\n",
    "    return [(x, y-1), (x, y+1), (x-1, y), (x+1, y)]"
   ]
  },
  {
   "cell_type": "code",
   "execution_count": 114,
   "metadata": {},
   "outputs": [],
   "source": [
    "def isSafe(x, y, input_mat, output_mat):\n",
    "    return input_mat[x][y] == 'o' or output_mat[x][y] == -1 "
   ]
  },
  {
   "cell_type": "code",
   "execution_count": 115,
   "metadata": {},
   "outputs": [],
   "source": [
    "guard_pos = queue()\n",
    "output_mat = [[-1 for i in range(rows)] for j in range(cols)]"
   ]
  },
  {
   "cell_type": "code",
   "execution_count": 109,
   "metadata": {},
   "outputs": [],
   "source": [
    "def find_least_dist(inp_mat):\n",
    "    rows = len(inp_mat)\n",
    "    cols = len(inp_mat[0])\n",
    "    for i in range(rows):\n",
    "        for j in range(cols):\n",
    "            output_mat[i][j] = -1\n",
    "            if inp_mat[i][j] == \"G\":\n",
    "                guard_pos.appendleft((i, j, 0))\n",
    "                output_mat[i][j] = 0\n",
    "    \n",
    "    print(\"guard_pos:\", guard_pos)\n",
    "    while guard_pos:\n",
    "        item = guard_pos.pop()\n",
    "        print(\"item:\", item)\n",
    "        x, y, dist = item[0], item[1], item[2]\n",
    "        neigh = findNeighbors(x, y)\n",
    "        for n in neigh:\n",
    "            x_c, y_c = n[0], n[1]\n",
    "            if isValid(x_c, y_c, rows, cols) and isSafe(x_c, y_c, inp_mat, output_mat):\n",
    "                output_mat[x_c][y_c] = dist+1\n",
    "                guard_pos.appendleft((x_c, y_c, dist+1))\n",
    "                \n"
   ]
  },
  {
   "cell_type": "code",
   "execution_count": 110,
   "metadata": {},
   "outputs": [
    {
     "name": "stdout",
     "output_type": "stream",
     "text": [
      "guard_pos: deque([(4, 4, 0), (3, 0, 0), (0, 4, 0)])\n",
      "item: (0, 4, 0)\n",
      "item: (3, 0, 0)\n",
      "item: (4, 4, 0)\n",
      "item: (0, 3, 1)\n",
      "item: (1, 4, 1)\n",
      "item: (3, 1, 1)\n",
      "item: (2, 0, 1)\n",
      "item: (4, 0, 1)\n",
      "item: (4, 3, 1)\n",
      "item: (3, 4, 1)\n",
      "item: (0, 2, 2)\n",
      "item: (1, 3, 2)\n",
      "item: (2, 4, 2)\n",
      "item: (3, 2, 2)\n",
      "item: (2, 1, 2)\n",
      "item: (4, 1, 2)\n",
      "item: (1, 0, 2)\n",
      "item: (4, 2, 2)\n",
      "item: (3, 3, 2)\n",
      "item: (0, 1, 3)\n",
      "item: (1, 2, 3)\n",
      "item: (2, 3, 3)\n",
      "item: (2, 2, 3)\n",
      "item: (1, 1, 3)\n",
      "item: (0, 0, 3)\n"
     ]
    }
   ],
   "source": [
    "\n",
    "find_least_dist(inp)\n",
    "    "
   ]
  },
  {
   "cell_type": "code",
   "execution_count": 111,
   "metadata": {
    "scrolled": true
   },
   "outputs": [
    {
     "name": "stdout",
     "output_type": "stream",
     "text": [
      "[[3, 3, 2, 1, 0], [2, 3, 3, 2, 1], [1, 2, 3, 3, 2], [0, 1, 2, 2, 1], [1, 2, 2, 1, 0]]\n"
     ]
    }
   ],
   "source": [
    "print(output_mat)"
   ]
  },
  {
   "cell_type": "code",
   "execution_count": null,
   "metadata": {},
   "outputs": [],
   "source": []
  }
 ],
 "metadata": {
  "kernelspec": {
   "display_name": "Python 3",
   "language": "python",
   "name": "python3"
  },
  "language_info": {
   "codemirror_mode": {
    "name": "ipython",
    "version": 3
   },
   "file_extension": ".py",
   "mimetype": "text/x-python",
   "name": "python",
   "nbconvert_exporter": "python",
   "pygments_lexer": "ipython3",
   "version": "3.7.2"
  }
 },
 "nbformat": 4,
 "nbformat_minor": 2
}
