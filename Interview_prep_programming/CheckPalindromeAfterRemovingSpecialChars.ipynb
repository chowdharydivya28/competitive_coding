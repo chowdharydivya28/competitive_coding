{
 "cells": [
  {
   "cell_type": "code",
   "execution_count": 22,
   "metadata": {},
   "outputs": [],
   "source": [
    "def checkPalindrome(inp_str):\n",
    "    if len(inp_str) == 0:\n",
    "        return \"Empty String\"\n",
    "    if len(inp_str) == 1:\n",
    "        return True\n",
    "    input_str = \"\".join([i for i in inp_str if i.isalnum()])\n",
    "    if len(input_str) == 0:\n",
    "        return \"Empty String\"\n",
    "    if len(input_str) == 1:\n",
    "        return True\n",
    "    start = 0\n",
    "    end = len(input_str)-1\n",
    "    while start < end:\n",
    "        if input_str[start] == input_str[end]:\n",
    "            start +=1\n",
    "            end -= 1\n",
    "        else:\n",
    "            return False\n",
    "    return True"
   ]
  },
  {
   "cell_type": "code",
   "execution_count": 23,
   "metadata": {},
   "outputs": [
    {
     "data": {
      "text/plain": [
       "True"
      ]
     },
     "execution_count": 23,
     "metadata": {},
     "output_type": "execute_result"
    }
   ],
   "source": [
    "input_str = \"12abcd^&()dcb((a21?\"\n",
    "checkPalindrome(input_str)"
   ]
  },
  {
   "cell_type": "code",
   "execution_count": 24,
   "metadata": {},
   "outputs": [
    {
     "data": {
      "text/plain": [
       "True"
      ]
     },
     "execution_count": 24,
     "metadata": {},
     "output_type": "execute_result"
    }
   ],
   "source": [
    "input_str = \"1#*a%2''''2****a)))))1?//\"\n",
    "checkPalindrome(input_str)"
   ]
  },
  {
   "cell_type": "code",
   "execution_count": 25,
   "metadata": {},
   "outputs": [
    {
     "data": {
      "text/plain": [
       "'Empty String'"
      ]
     },
     "execution_count": 25,
     "metadata": {},
     "output_type": "execute_result"
    }
   ],
   "source": [
    "input_str = \"#%^%$&$&$*\"\n",
    "checkPalindrome(input_str)"
   ]
  },
  {
   "cell_type": "code",
   "execution_count": null,
   "metadata": {},
   "outputs": [],
   "source": []
  }
 ],
 "metadata": {
  "kernelspec": {
   "display_name": "Python 3",
   "language": "python",
   "name": "python3"
  },
  "language_info": {
   "codemirror_mode": {
    "name": "ipython",
    "version": 3
   },
   "file_extension": ".py",
   "mimetype": "text/x-python",
   "name": "python",
   "nbconvert_exporter": "python",
   "pygments_lexer": "ipython3",
   "version": "3.7.2"
  }
 },
 "nbformat": 4,
 "nbformat_minor": 2
}
