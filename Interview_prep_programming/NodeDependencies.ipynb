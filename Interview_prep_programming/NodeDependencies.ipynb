{
 "cells": [
  {
   "cell_type": "code",
   "execution_count": 34,
   "metadata": {},
   "outputs": [],
   "source": [
    "from collections import Counter\n",
    "def find_node_dependencies(li, k):\n",
    "    def get_conn(dic, val):\n",
    "        if val in dic:\n",
    "            return dic[val]\n",
    "        else:\n",
    "            return []\n",
    "    if len(li) == 0:\n",
    "        return []\n",
    "    elif len(li) == 1:\n",
    "        return li\n",
    "    else:\n",
    "        end = {}\n",
    "        for i in li:\n",
    "            if i[1] in end:\n",
    "                end[i[1]].append(i[0])\n",
    "            else:\n",
    "                end[i[1]] = [i[0]]\n",
    "        \n",
    "        if k in end:\n",
    "            results = []\n",
    "            value = end[k]\n",
    "            results.append(k)\n",
    "            while value:\n",
    "                r = []\n",
    "                for i in value:\n",
    "                    results.append(i)\n",
    "                    r = r+get_conn(end, i)\n",
    "                value = r\n",
    "        else:\n",
    "            return []\n",
    "    return results[::-1]\n",
    "            \n",
    "            "
   ]
  },
  {
   "cell_type": "code",
   "execution_count": 35,
   "metadata": {},
   "outputs": [],
   "source": [
    "conn = [[7,11], [5,11], [3,8], [11,2], [11,9], [8,9],[3,10]]"
   ]
  },
  {
   "cell_type": "code",
   "execution_count": 36,
   "metadata": {},
   "outputs": [
    {
     "data": {
      "text/plain": [
       "[5, 7, 11, 2]"
      ]
     },
     "execution_count": 36,
     "metadata": {},
     "output_type": "execute_result"
    }
   ],
   "source": [
    "find_node_dependencies(conn, 2)"
   ]
  },
  {
   "cell_type": "code",
   "execution_count": 37,
   "metadata": {},
   "outputs": [
    {
     "data": {
      "text/plain": [
       "[3, 5, 7, 8, 11, 9]"
      ]
     },
     "execution_count": 37,
     "metadata": {},
     "output_type": "execute_result"
    }
   ],
   "source": [
    "find_node_dependencies(conn, 9)"
   ]
  },
  {
   "cell_type": "code",
   "execution_count": null,
   "metadata": {},
   "outputs": [],
   "source": []
  }
 ],
 "metadata": {
  "kernelspec": {
   "display_name": "Python 3",
   "language": "python",
   "name": "python3"
  },
  "language_info": {
   "codemirror_mode": {
    "name": "ipython",
    "version": 3
   },
   "file_extension": ".py",
   "mimetype": "text/x-python",
   "name": "python",
   "nbconvert_exporter": "python",
   "pygments_lexer": "ipython3",
   "version": "3.7.2"
  }
 },
 "nbformat": 4,
 "nbformat_minor": 2
}
