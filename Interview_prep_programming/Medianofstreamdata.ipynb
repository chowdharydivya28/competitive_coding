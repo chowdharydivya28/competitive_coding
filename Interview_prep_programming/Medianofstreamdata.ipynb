{
 "cells": [
  {
   "cell_type": "code",
   "execution_count": 34,
   "metadata": {},
   "outputs": [],
   "source": [
    "class MedianFinder:\n",
    "\n",
    "    def __init__(self):\n",
    "        \"\"\"\n",
    "        initialize your data structure here.\n",
    "        \"\"\"\n",
    "        self.prev = 0\n",
    "        self.prev_2_sum = 0\n",
    "        self.count = 0    \n",
    "\n",
    "    def addNum(self, num: int) -> None:\n",
    "        self.num = num\n",
    "        self.count +=1 \n",
    "        \n",
    "\n",
    "    def findMedian(self) -> float:\n",
    "        print(self.count)\n",
    "        print(self.prev)\n",
    "        print(self.prev_2_sum)\n",
    "        print(self.num)\n",
    "        if self.count == 1:\n",
    "            self.prev_2_sum = self.prev+self.num\n",
    "            self.prev = self.num\n",
    "            return\n",
    "        #odd\n",
    "        elif self.count%2 >0:\n",
    "            print(\"odd\")\n",
    "            ret = self.prev\n",
    "            self.prev_2_sum = self.prev+self.num\n",
    "            self.prev = self.num\n",
    "        else:\n",
    "            print(\"even\")\n",
    "            ret = (self.prev_2_sum+self.num)/2.0\n",
    "            self.prev_2_sum = self.prev+self.num\n",
    "            self.prev = self.num \n",
    "        return ret\n",
    "\n",
    "\n",
    "# Your MedianFinder object will be instantiated and called as such:\n",
    "# obj = MedianFinder()\n",
    "# obj.addNum(num)\n",
    "# param_2 = obj.findMedian()\n"
   ]
  },
  {
   "cell_type": "code",
   "execution_count": 39,
   "metadata": {
    "scrolled": true
   },
   "outputs": [
    {
     "name": "stdout",
     "output_type": "stream",
     "text": [
      "1\n",
      "0\n",
      "0\n",
      "1\n",
      "2\n",
      "1\n",
      "1\n",
      "2\n",
      "even\n"
     ]
    },
    {
     "data": {
      "text/plain": [
       "1.5"
      ]
     },
     "execution_count": 39,
     "metadata": {},
     "output_type": "execute_result"
    }
   ],
   "source": [
    "obj = MedianFinder()\n",
    "obj.addNum(1)\n",
    "obj.findMedian()\n",
    "obj.addNum(2)\n",
    "obj.findMedian()\n",
    "# obj.addNum(3)\n",
    "# obj.findMedian()\n",
    "# obj.addNum(0)\n",
    "# obj.findMedian()"
   ]
  },
  {
   "cell_type": "code",
   "execution_count": null,
   "metadata": {},
   "outputs": [],
   "source": []
  },
  {
   "cell_type": "code",
   "execution_count": null,
   "metadata": {},
   "outputs": [],
   "source": []
  }
 ],
 "metadata": {
  "kernelspec": {
   "display_name": "Python 3",
   "language": "python",
   "name": "python3"
  },
  "language_info": {
   "codemirror_mode": {
    "name": "ipython",
    "version": 3
   },
   "file_extension": ".py",
   "mimetype": "text/x-python",
   "name": "python",
   "nbconvert_exporter": "python",
   "pygments_lexer": "ipython3",
   "version": "3.7.2"
  }
 },
 "nbformat": 4,
 "nbformat_minor": 2
}
