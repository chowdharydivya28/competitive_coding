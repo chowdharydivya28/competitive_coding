{
 "cells": [
  {
   "cell_type": "code",
   "execution_count": 119,
   "metadata": {},
   "outputs": [],
   "source": [
    "from collections import defaultdict\n",
    "class Graph:\n",
    "    def __init__(self, vertices):\n",
    "        self.V = vertices\n",
    "        self.graph = defaultdict(list)\n",
    "        \n",
    "    def add_edge(self, u, v):\n",
    "        self.graph[u].append(v)\n",
    "        \n",
    "    def find_all_paths_by_dfs(self, source, dest, visited, path):\n",
    "    #     print(\"path is :\", path)\n",
    "        visited[source] = True\n",
    "        path.append(source)\n",
    "        if source == dest:\n",
    "            print(path)\n",
    "        else:\n",
    "            for i in self.graph[source]:\n",
    "                if visited[i] == False:\n",
    "                    self.find_all_paths_by_dfs(i, dest, visited, path)\n",
    "        path.pop() \n",
    "        visited[source]= False\n",
    "        \n",
    "    def find_all_paths(self, source, dest):\n",
    "        visited = [False]*self.V\n",
    "        paths = []\n",
    "        self.find_all_paths_by_dfs(source, dest, visited, paths)\n",
    "\n",
    "\n",
    "\n"
   ]
  },
  {
   "cell_type": "code",
   "execution_count": 120,
   "metadata": {},
   "outputs": [],
   "source": [
    "g = Graph(4)\n",
    "g.add_edge(0, 1)\n",
    "g.add_edge(0, 2)\n",
    "g.add_edge(0, 3)\n",
    "g.add_edge(2, 0)\n",
    "g.add_edge(2, 1)\n",
    "g.add_edge(1, 3)"
   ]
  },
  {
   "cell_type": "code",
   "execution_count": 121,
   "metadata": {},
   "outputs": [
    {
     "data": {
      "text/plain": [
       "defaultdict(list, {0: [1, 2, 3], 2: [0, 1], 1: [3]})"
      ]
     },
     "execution_count": 121,
     "metadata": {},
     "output_type": "execute_result"
    }
   ],
   "source": [
    "g.graph"
   ]
  },
  {
   "cell_type": "code",
   "execution_count": 122,
   "metadata": {},
   "outputs": [
    {
     "name": "stdout",
     "output_type": "stream",
     "text": [
      "[2, 0, 1, 3]\n",
      "[2, 0, 3]\n",
      "[2, 1, 3]\n"
     ]
    }
   ],
   "source": [
    "g.find_all_paths(2, 3)"
   ]
  },
  {
   "cell_type": "code",
   "execution_count": null,
   "metadata": {},
   "outputs": [],
   "source": []
  }
 ],
 "metadata": {
  "kernelspec": {
   "display_name": "Python 3",
   "language": "python",
   "name": "python3"
  },
  "language_info": {
   "codemirror_mode": {
    "name": "ipython",
    "version": 3
   },
   "file_extension": ".py",
   "mimetype": "text/x-python",
   "name": "python",
   "nbconvert_exporter": "python",
   "pygments_lexer": "ipython3",
   "version": "3.7.2"
  }
 },
 "nbformat": 4,
 "nbformat_minor": 2
}
