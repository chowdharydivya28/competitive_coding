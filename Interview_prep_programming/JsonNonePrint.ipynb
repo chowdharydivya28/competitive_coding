{
 "cells": [
  {
   "cell_type": "code",
   "execution_count": 39,
   "metadata": {},
   "outputs": [],
   "source": [
    "input_json ={\"Jon\": \"Smith\", \"Adam\": [\"Jake\", None, \"Nancy\"], \"Alex\": {\"Muller\": [None, \"Sam\"],\"Phil\": None,\"Xav\": [\"Mike\", \"Tom\"]}, \"Lex\": None}\n"
   ]
  },
  {
   "cell_type": "code",
   "execution_count": 50,
   "metadata": {},
   "outputs": [],
   "source": [
    "def get_none_output(input_json, key_string):\n",
    "    if len(input_json) == 0:\n",
    "        return []\n",
    "    results = []\n",
    "    for key, value in input_json.items():\n",
    "        if value is None:\n",
    "            print(key_string+\".\"+key) if key_string else print(key)\n",
    "        elif (type(value) is list or type(value) is dict) and len(value) > 1:\n",
    "            if type(value) is dict:\n",
    "                key_new = key_string+key\n",
    "                get_none_output(value,key_new)\n",
    "            elif None in value:\n",
    "                none_ind = value.index(None)\n",
    "                print(key_string+\".\"+key+\".\"+str(none_ind)) if key_string else print(key+\".\"+str(none_ind)\n",
    "            \n",
    "            \n",
    "            "
   ]
  },
  {
   "cell_type": "code",
   "execution_count": 51,
   "metadata": {},
   "outputs": [
    {
     "name": "stdout",
     "output_type": "stream",
     "text": [
      "Adam.1\n",
      "Alex.Muller.0\n",
      "Alex.Phil\n",
      "Lex\n"
     ]
    }
   ],
   "source": [
    "get_none_output(input_json, \"\")"
   ]
  },
  {
   "cell_type": "code",
   "execution_count": null,
   "metadata": {},
   "outputs": [],
   "source": []
  },
  {
   "cell_type": "code",
   "execution_count": null,
   "metadata": {},
   "outputs": [],
   "source": []
  }
 ],
 "metadata": {
  "kernelspec": {
   "display_name": "Python 3",
   "language": "python",
   "name": "python3"
  },
  "language_info": {
   "codemirror_mode": {
    "name": "ipython",
    "version": 3
   },
   "file_extension": ".py",
   "mimetype": "text/x-python",
   "name": "python",
   "nbconvert_exporter": "python",
   "pygments_lexer": "ipython3",
   "version": "3.7.2"
  }
 },
 "nbformat": 4,
 "nbformat_minor": 2
}
