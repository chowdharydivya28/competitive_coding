{
 "cells": [
  {
   "cell_type": "code",
   "execution_count": 104,
   "metadata": {},
   "outputs": [],
   "source": [
    "# input_lists = [[1, 3, 5, 8], [2, 4, 6, 11], [0, 9, 10, 11]] #even same length\n",
    "# input_lists = [[1, 3, 5], [2, 6, 11], [0, 9, 11]] #odd same length\n",
    "# input_lists = [[1, 5, 8], [2, 4, 6, 11], [0]] #even different length\n",
    "input_lists = [[3, 5], [2, 6, 11, 7], [0, 9, 11]] #odd different length"
   ]
  },
  {
   "cell_type": "code",
   "execution_count": 105,
   "metadata": {},
   "outputs": [
    {
     "data": {
      "text/plain": [
       "[[3, 5], [2, 6, 11, 7], [0, 9, 11]]"
      ]
     },
     "execution_count": 105,
     "metadata": {},
     "output_type": "execute_result"
    }
   ],
   "source": [
    "input_lists"
   ]
  },
  {
   "cell_type": "code",
   "execution_count": 106,
   "metadata": {},
   "outputs": [],
   "source": [
    "import heapq\n",
    "def findMedianKsortedLists(input_lists):\n",
    "    if len(input_lists) == 0 or len(input_lists[0]) == 0:\n",
    "        return None\n",
    "    els = []\n",
    "    k = len(input_lists)\n",
    "    # consider all arrays are of any length find total length of array in case all are merged together - O(N*K) -where N is avg length of each array\n",
    "    for row in range(k):\n",
    "            [heapq.heappush(els, input_lists[row][col]) for col in range(len(input_lists[row]))]       \n",
    "    print(\"heap:\", els)\n",
    "    nk = len(els)\n",
    "    if nk%2==1: # odd length\n",
    "        for _ in range(nk//2):\n",
    "            heapq.heappop(els)\n",
    "        return heapq.heappop(els)\n",
    "    else:\n",
    "        for _ in range(nk//2-1):\n",
    "            heapq.heappop(els)\n",
    "        return (heapq.heappop(els)+heapq.heappop(els))/2.0\n",
    "    \n",
    "# TIME COMPLEXITY - O(n*k)+O(((n*k)/2)log(n*k)) ~ O(nk)\n",
    "# SPACE COMPLEXITY - O(n*k)"
   ]
  },
  {
   "cell_type": "code",
   "execution_count": 107,
   "metadata": {},
   "outputs": [
    {
     "name": "stdout",
     "output_type": "stream",
     "text": [
      "heap: [0, 5, 2, 6, 11, 7, 3, 9, 11]\n"
     ]
    },
    {
     "data": {
      "text/plain": [
       "6"
      ]
     },
     "execution_count": 107,
     "metadata": {},
     "output_type": "execute_result"
    }
   ],
   "source": [
    "findMedianKsortedLists(input_lists)"
   ]
  },
  {
   "cell_type": "code",
   "execution_count": null,
   "metadata": {},
   "outputs": [],
   "source": []
  },
  {
   "cell_type": "code",
   "execution_count": null,
   "metadata": {},
   "outputs": [],
   "source": []
  }
 ],
 "metadata": {
  "kernelspec": {
   "display_name": "Python 3",
   "language": "python",
   "name": "python3"
  },
  "language_info": {
   "codemirror_mode": {
    "name": "ipython",
    "version": 3
   },
   "file_extension": ".py",
   "mimetype": "text/x-python",
   "name": "python",
   "nbconvert_exporter": "python",
   "pygments_lexer": "ipython3",
   "version": "3.7.2"
  }
 },
 "nbformat": 4,
 "nbformat_minor": 2
}
