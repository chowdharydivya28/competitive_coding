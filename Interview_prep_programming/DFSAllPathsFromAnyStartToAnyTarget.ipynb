{
 "cells": [
  {
   "cell_type": "code",
   "execution_count": 49,
   "metadata": {},
   "outputs": [],
   "source": [
    "from collections import defaultdict\n",
    "class Graph:\n",
    "    def __init__(self, V):\n",
    "        self.v = V\n",
    "        self.edges = defaultdict(list)\n",
    "    \n",
    "    def addedges(self, u, v):\n",
    "#         print(u)\n",
    "#         print(v)\n",
    "#         print(self.edges)\n",
    "#         print(self.edges[u])\n",
    "        self.edges[u].append(v)\n",
    "            \n",
    "    def findDFSpath(self, visited, start, target, path):\n",
    "        visited[start] = True\n",
    "        path.append(start)\n",
    "        \n",
    "        if start == target:\n",
    "            print(path)\n",
    "#             return path\n",
    "        else:\n",
    "            if self.edges[start]:\n",
    "                for j in self.edges[start]:\n",
    "                    if visited[j] == False:\n",
    "                        self.findDFSpath(visited, j, target, path)\n",
    "        path.pop()\n",
    "        visited[start] = False\n",
    "    \n",
    "    def findAllDFSpath(self,start, target):\n",
    "        paths = []\n",
    "        visited = [False]*len(self.v)\n",
    "        print(visited)\n",
    "        self.findDFSpath(visited, start, target, paths)\n",
    "#         return paths\n",
    "        \n",
    "    "
   ]
  },
  {
   "cell_type": "code",
   "execution_count": 50,
   "metadata": {},
   "outputs": [],
   "source": [
    "graph = [[1, 2, 3], [3], [0, 1], []]"
   ]
  },
  {
   "cell_type": "code",
   "execution_count": 51,
   "metadata": {},
   "outputs": [],
   "source": [
    "g = Graph([0, 1, 2, 3])"
   ]
  },
  {
   "cell_type": "code",
   "execution_count": 52,
   "metadata": {},
   "outputs": [],
   "source": [
    "g.addedges(0, 1)\n",
    "g.addedges(0, 2)\n",
    "g.addedges(0, 3)\n",
    "g.addedges(1, 3)\n",
    "g.addedges(2, 0)\n",
    "g.addedges(2, 1)"
   ]
  },
  {
   "cell_type": "code",
   "execution_count": 53,
   "metadata": {},
   "outputs": [
    {
     "data": {
      "text/plain": [
       "defaultdict(list, {0: [1, 2, 3], 1: [3], 2: [0, 1]})"
      ]
     },
     "execution_count": 53,
     "metadata": {},
     "output_type": "execute_result"
    }
   ],
   "source": [
    "g.edges"
   ]
  },
  {
   "cell_type": "code",
   "execution_count": 55,
   "metadata": {},
   "outputs": [
    {
     "name": "stdout",
     "output_type": "stream",
     "text": [
      "[False, False, False, False]\n",
      "[0, 1, 3]\n",
      "[0, 2, 1, 3]\n",
      "[0, 3]\n"
     ]
    }
   ],
   "source": [
    "g.findAllDFSpath(0, 3)"
   ]
  },
  {
   "cell_type": "code",
   "execution_count": null,
   "metadata": {},
   "outputs": [],
   "source": []
  }
 ],
 "metadata": {
  "kernelspec": {
   "display_name": "Python 3",
   "language": "python",
   "name": "python3"
  },
  "language_info": {
   "codemirror_mode": {
    "name": "ipython",
    "version": 3
   },
   "file_extension": ".py",
   "mimetype": "text/x-python",
   "name": "python",
   "nbconvert_exporter": "python",
   "pygments_lexer": "ipython3",
   "version": "3.7.2"
  }
 },
 "nbformat": 4,
 "nbformat_minor": 2
}
