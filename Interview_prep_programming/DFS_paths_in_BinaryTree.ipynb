{
 "cells": [
  {
   "cell_type": "code",
   "execution_count": 27,
   "metadata": {},
   "outputs": [],
   "source": [
    "class Node:\n",
    "    def __init__(self, val):\n",
    "        self.val = val\n",
    "        self.left = None\n",
    "        self.right = None"
   ]
  },
  {
   "cell_type": "code",
   "execution_count": 86,
   "metadata": {},
   "outputs": [],
   "source": [
    "root = Node(20)\n",
    "l1 = Node(8)\n",
    "r1 = Node(22)\n",
    "root.left = l1\n",
    "root.right = r1\n",
    "l2 = Node(4)\n",
    "r2 = Node(12)\n",
    "root.left.left = l2\n",
    "root.left.right = r2\n",
    "r3 = Node(25)\n",
    "root.right.right = r3\n",
    "l4 = Node(10)\n",
    "r4 = Node(14)\n",
    "root.left.right.left = l4\n",
    "root.left.right.right = r4"
   ]
  },
  {
   "cell_type": "code",
   "execution_count": 68,
   "metadata": {},
   "outputs": [],
   "source": [
    "# USE pre-order traversal for path from root to leaf\n",
    "def root_to_leaf(root,path):\n",
    "    if not root:\n",
    "        return\n",
    "    if root:\n",
    "        path.append(root.val)\n",
    "        root_to_leaf(root.left, path)\n",
    "        root_to_leaf(root.right, path)\n",
    "        if root.left is None and root.right is None:\n",
    "            print(path)\n",
    "        path.pop()\n",
    "   \n",
    "        "
   ]
  },
  {
   "cell_type": "code",
   "execution_count": 69,
   "metadata": {},
   "outputs": [
    {
     "name": "stdout",
     "output_type": "stream",
     "text": [
      "[20, 8, 4]\n",
      "[20, 8, 12, 10]\n",
      "[20, 8, 12, 14]\n",
      "[20, 22, 25]\n"
     ]
    }
   ],
   "source": [
    "root_to_leaf(root, [])"
   ]
  },
  {
   "cell_type": "code",
   "execution_count": 89,
   "metadata": {},
   "outputs": [],
   "source": [
    "# store all root to leaf paths for a given Binary tree and return it\n",
    "def root_to_leaf(root, path, all_paths):\n",
    "    if not root:\n",
    "        return\n",
    "    if root:\n",
    "        path.append(root.val)\n",
    "        root_to_leaf(root.left, path, all_paths)\n",
    "        root_to_leaf(root.right, path, all_paths)\n",
    "        if root.left is None and root.right is None:\n",
    "            all_paths.append(list(path))\n",
    "        path.pop()\n",
    "    return all_paths"
   ]
  },
  {
   "cell_type": "code",
   "execution_count": 90,
   "metadata": {},
   "outputs": [
    {
     "name": "stdout",
     "output_type": "stream",
     "text": [
      "[[20, 8, 4], [20, 8, 12, 10], [20, 8, 12, 14], [20, 22, 25]]\n"
     ]
    }
   ],
   "source": [
    "print(root_to_leaf(root, [], []))"
   ]
  },
  {
   "cell_type": "code",
   "execution_count": null,
   "metadata": {},
   "outputs": [],
   "source": []
  }
 ],
 "metadata": {
  "kernelspec": {
   "display_name": "Python 3",
   "language": "python",
   "name": "python3"
  },
  "language_info": {
   "codemirror_mode": {
    "name": "ipython",
    "version": 3
   },
   "file_extension": ".py",
   "mimetype": "text/x-python",
   "name": "python",
   "nbconvert_exporter": "python",
   "pygments_lexer": "ipython3",
   "version": "3.7.2"
  }
 },
 "nbformat": 4,
 "nbformat_minor": 2
}
