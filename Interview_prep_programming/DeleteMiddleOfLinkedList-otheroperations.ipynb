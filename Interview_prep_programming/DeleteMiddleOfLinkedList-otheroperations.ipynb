{
 "cells": [
  {
   "cell_type": "code",
   "execution_count": 74,
   "metadata": {},
   "outputs": [],
   "source": [
    "import math\n",
    "class ListNode:\n",
    "    def __init__(self, val):\n",
    "        self.val = val\n",
    "        self.next = None\n",
    "    \n",
    "    def print_list(self):\n",
    "        start = self\n",
    "        while start is not None:\n",
    "            print(start.val)\n",
    "            start = start.next\n",
    "    \n",
    "    def deletemiddle(self):\n",
    "        count = 1\n",
    "        start = self\n",
    "        while start.next is not None:\n",
    "            count += 1\n",
    "            start = start.next\n",
    "        middle = math.ceil(count/2) if count%2 != 0 else (count/2)+1\n",
    "        start = self\n",
    "        cnt = 1\n",
    "        while cnt < middle:\n",
    "            cnt += 1\n",
    "            start = start.next\n",
    "        start.val = start.next.val\n",
    "        start.next = start.next.next\n",
    "        \n",
    "    def removeelement(self, val):\n",
    "        # this will work when there is only one node with val == val to delete in list\n",
    "        start = self\n",
    "        prev = None\n",
    "        while start.next is not None:\n",
    "            if start.val == val:\n",
    "                break\n",
    "            prev = start\n",
    "            start = start.next\n",
    "        if start.next is None:\n",
    "            prev.next = None\n",
    "        else:\n",
    "            prev.next = start.next\n",
    "            \n",
    "    def removeanyoccurrenceofelem(self, val):\n",
    "        prev, current = None, self\n",
    "        while current:\n",
    "            if current.val == val:\n",
    "                if prev:\n",
    "                    # Remove the current node in the normal way.\n",
    "                    prev.next = current.next\n",
    "                    current = prev\n",
    "                else: # when value to be removed is the first element\n",
    "                    # We are at the head, advance the head and keep prev as None.\n",
    "                    self = self.next\n",
    "            else: # when it's not the value to be removed\n",
    "                # Advance the prev pointer.\n",
    "                prev = current\n",
    "            # Advance the current pointer.\n",
    "            current = current.next\n",
    "        return self\n",
    "        \n",
    "            \n",
    "              \n",
    "        "
   ]
  },
  {
   "cell_type": "code",
   "execution_count": 90,
   "metadata": {},
   "outputs": [],
   "source": [
    "l = ListNode(2)\n",
    "l.next = ListNode(4)\n",
    "l.next.next = ListNode(18)\n",
    "l.next.next.next = ListNode(2)\n",
    "l.next.next.next.next = ListNode(12)"
   ]
  },
  {
   "cell_type": "code",
   "execution_count": 91,
   "metadata": {},
   "outputs": [
    {
     "name": "stdout",
     "output_type": "stream",
     "text": [
      "2\n",
      "4\n",
      "18\n",
      "2\n",
      "12\n"
     ]
    }
   ],
   "source": [
    "l.print_list()"
   ]
  },
  {
   "cell_type": "code",
   "execution_count": 92,
   "metadata": {},
   "outputs": [],
   "source": [
    "l.deletemiddle()"
   ]
  },
  {
   "cell_type": "code",
   "execution_count": 93,
   "metadata": {},
   "outputs": [
    {
     "name": "stdout",
     "output_type": "stream",
     "text": [
      "2\n",
      "4\n",
      "2\n",
      "12\n"
     ]
    }
   ],
   "source": [
    "l.print_list()"
   ]
  },
  {
   "cell_type": "code",
   "execution_count": 94,
   "metadata": {},
   "outputs": [],
   "source": [
    "n = l.removeanyoccurrenceofelem(2)\n"
   ]
  },
  {
   "cell_type": "code",
   "execution_count": 95,
   "metadata": {},
   "outputs": [
    {
     "name": "stdout",
     "output_type": "stream",
     "text": [
      "4\n"
     ]
    }
   ],
   "source": [
    "while n.next is not None:\n",
    "    print(n.val)\n",
    "    n = n.next"
   ]
  },
  {
   "cell_type": "code",
   "execution_count": null,
   "metadata": {},
   "outputs": [],
   "source": []
  },
  {
   "cell_type": "code",
   "execution_count": null,
   "metadata": {},
   "outputs": [],
   "source": []
  }
 ],
 "metadata": {
  "kernelspec": {
   "display_name": "Python 3",
   "language": "python",
   "name": "python3"
  },
  "language_info": {
   "codemirror_mode": {
    "name": "ipython",
    "version": 3
   },
   "file_extension": ".py",
   "mimetype": "text/x-python",
   "name": "python",
   "nbconvert_exporter": "python",
   "pygments_lexer": "ipython3",
   "version": "3.7.2"
  }
 },
 "nbformat": 4,
 "nbformat_minor": 2
}
