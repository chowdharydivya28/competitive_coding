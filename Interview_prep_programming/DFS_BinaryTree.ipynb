{
 "cells": [
  {
   "cell_type": "code",
   "execution_count": 1,
   "metadata": {},
   "outputs": [],
   "source": [
    "class Node:\n",
    "    def __init__(self, val):\n",
    "        self.val = val\n",
    "        self.left = None\n",
    "        self.right = None\n",
    "        "
   ]
  },
  {
   "cell_type": "code",
   "execution_count": 2,
   "metadata": {},
   "outputs": [],
   "source": [
    "root = Node(20)\n",
    "l1 = Node(8)\n",
    "r1 = Node(22)\n",
    "root.left = l1\n",
    "root.right = r1\n",
    "l2 = Node(4)\n",
    "r2 = Node(12)\n",
    "root.left.left = l2\n",
    "root.left.right = r2\n",
    "r3 = Node(25)\n",
    "root.right.right = r3\n",
    "l4 = Node(10)\n",
    "r4 = Node(14)\n",
    "root.left.right.left = l4\n",
    "root.left.right.right = r4"
   ]
  },
  {
   "cell_type": "code",
   "execution_count": 3,
   "metadata": {},
   "outputs": [],
   "source": [
    "def DFS(root, elements):\n",
    "    if not root:\n",
    "        return []\n",
    "    elements.append(root.val)\n",
    "    DFS(root.left, elements)\n",
    "    DFS(root.right, elements)\n",
    "    return elements"
   ]
  },
  {
   "cell_type": "code",
   "execution_count": 4,
   "metadata": {},
   "outputs": [
    {
     "data": {
      "text/plain": [
       "[20, 8, 4, 12, 10, 14, 22, 25]"
      ]
     },
     "execution_count": 4,
     "metadata": {},
     "output_type": "execute_result"
    }
   ],
   "source": [
    "DFS(root, [])"
   ]
  },
  {
   "cell_type": "code",
   "execution_count": null,
   "metadata": {},
   "outputs": [],
   "source": []
  }
 ],
 "metadata": {
  "kernelspec": {
   "display_name": "Python 3",
   "language": "python",
   "name": "python3"
  },
  "language_info": {
   "codemirror_mode": {
    "name": "ipython",
    "version": 3
   },
   "file_extension": ".py",
   "mimetype": "text/x-python",
   "name": "python",
   "nbconvert_exporter": "python",
   "pygments_lexer": "ipython3",
   "version": "3.7.2"
  }
 },
 "nbformat": 4,
 "nbformat_minor": 2
}
