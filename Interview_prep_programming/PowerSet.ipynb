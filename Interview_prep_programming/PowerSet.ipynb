{
 "cells": [
  {
   "cell_type": "code",
   "execution_count": 1,
   "metadata": {},
   "outputs": [],
   "source": [
    "def subsets(nums):        \n",
    "    def powerset(nums, index, cur, final):\n",
    "        if index == len(nums):\n",
    "            print(cur)\n",
    "            final.append(cur)\n",
    "            return\n",
    "        else:\n",
    "            powerset(nums, index+1, cur+[nums[index]], final)\n",
    "            powerset(nums, index+1, cur, final)\n",
    "    index = 0\n",
    "    cur, final = [], []\n",
    "    powerset(nums, index, cur, final)\n",
    "    return final"
   ]
  },
  {
   "cell_type": "code",
   "execution_count": null,
   "metadata": {},
   "outputs": [],
   "source": [
    "def subsets(self, nums: List[int]) -> List[List[int]]:  \n",
    "        results = []\n",
    "        for i in range(len(nums)+1):\n",
    "            results += map(list, combinations(nums, i))\n",
    "        return results"
   ]
  },
  {
   "cell_type": "code",
   "execution_count": 2,
   "metadata": {},
   "outputs": [],
   "source": [
    "nums = [1, 2, 3]"
   ]
  },
  {
   "cell_type": "code",
   "execution_count": 4,
   "metadata": {},
   "outputs": [
    {
     "name": "stdout",
     "output_type": "stream",
     "text": [
      "[1, 2, 3]\n",
      "[1, 2]\n",
      "[1, 3]\n",
      "[1]\n",
      "[2, 3]\n",
      "[2]\n",
      "[3]\n",
      "[]\n"
     ]
    },
    {
     "data": {
      "text/plain": [
       "[[1, 2, 3], [1, 2], [1, 3], [1], [2, 3], [2], [3], []]"
      ]
     },
     "execution_count": 4,
     "metadata": {},
     "output_type": "execute_result"
    }
   ],
   "source": [
    "subsets(nums)"
   ]
  },
  {
   "cell_type": "code",
   "execution_count": null,
   "metadata": {},
   "outputs": [],
   "source": []
  }
 ],
 "metadata": {
  "kernelspec": {
   "display_name": "Python 3",
   "language": "python",
   "name": "python3"
  },
  "language_info": {
   "codemirror_mode": {
    "name": "ipython",
    "version": 3
   },
   "file_extension": ".py",
   "mimetype": "text/x-python",
   "name": "python",
   "nbconvert_exporter": "python",
   "pygments_lexer": "ipython3",
   "version": "3.7.2"
  }
 },
 "nbformat": 4,
 "nbformat_minor": 2
}
