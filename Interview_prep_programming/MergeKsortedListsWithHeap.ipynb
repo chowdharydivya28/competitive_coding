{
 "cells": [
  {
   "cell_type": "code",
   "execution_count": 27,
   "metadata": {},
   "outputs": [],
   "source": [
    "input_lists = [[1, 3, 5, 12], [2, 4, 6, 11], [0, 9, 10, 11]]\n"
   ]
  },
  {
   "cell_type": "code",
   "execution_count": 28,
   "metadata": {},
   "outputs": [
    {
     "data": {
      "text/plain": [
       "[[1, 3, 5, 12], [2, 4, 6, 11], [0, 9, 10, 11]]"
      ]
     },
     "execution_count": 28,
     "metadata": {},
     "output_type": "execute_result"
    }
   ],
   "source": [
    "input_lists"
   ]
  },
  {
   "cell_type": "code",
   "execution_count": 29,
   "metadata": {},
   "outputs": [],
   "source": [
    "## SAME SIZE SORTED ARRAYS - won't work for different sized arrays (for this create one single heap with all elements)\n",
    "## TIME COMPLEXITY: O(N*K log K)\n",
    "## This is lesser than O(N*K log N*K) if you push all elements to the same heap\n",
    "import heapq\n",
    "from collections import defaultdict\n",
    "def mergeksortedlists(input_lists):\n",
    "    if len(input_lists) == 0 or len(input_lists[0]) == 0:\n",
    "        return []\n",
    "    rows = len(input_lists)\n",
    "    cols = len(input_lists[0])\n",
    "    get_el_at_index = []\n",
    "    output = []\n",
    "    for i in range(cols):\n",
    "        el_at_index = []\n",
    "        [heapq.heappush(el_at_index, input_lists[k][i]) for k in range(rows)]\n",
    "        print(el_at_index)\n",
    "        while el_at_index:\n",
    "            output.append(heapq.heappop(el_at_index))  \n",
    "    return output\n",
    "        \n",
    "        \n",
    "        "
   ]
  },
  {
   "cell_type": "code",
   "execution_count": 30,
   "metadata": {},
   "outputs": [
    {
     "name": "stdout",
     "output_type": "stream",
     "text": [
      "[0, 2, 1]\n",
      "[3, 4, 9]\n",
      "[5, 6, 10]\n",
      "[11, 12, 11]\n"
     ]
    },
    {
     "data": {
      "text/plain": [
       "[0, 1, 2, 3, 4, 9, 5, 6, 10, 11, 11, 12]"
      ]
     },
     "execution_count": 30,
     "metadata": {},
     "output_type": "execute_result"
    }
   ],
   "source": [
    "mergeksortedlists(input_lists)"
   ]
  },
  {
   "cell_type": "code",
   "execution_count": null,
   "metadata": {},
   "outputs": [],
   "source": []
  }
 ],
 "metadata": {
  "kernelspec": {
   "display_name": "Python 3",
   "language": "python",
   "name": "python3"
  },
  "language_info": {
   "codemirror_mode": {
    "name": "ipython",
    "version": 3
   },
   "file_extension": ".py",
   "mimetype": "text/x-python",
   "name": "python",
   "nbconvert_exporter": "python",
   "pygments_lexer": "ipython3",
   "version": "3.7.2"
  }
 },
 "nbformat": 4,
 "nbformat_minor": 2
}
