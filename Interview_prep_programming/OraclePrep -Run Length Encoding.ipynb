{
 "cells": [
  {
   "cell_type": "code",
   "execution_count": 100,
   "metadata": {},
   "outputs": [],
   "source": [
    "input_s = \"abcccddeeeeea\"\n",
    "#output = \"abc3d3e5a\""
   ]
  },
  {
   "cell_type": "code",
   "execution_count": 101,
   "metadata": {},
   "outputs": [],
   "source": [
    "from collections import defaultdict\n",
    "def compress_string(s):\n",
    "    final_s = \"\"\n",
    "    last_char = \"\"\n",
    "    count = 1\n",
    "    for i in range(len(s)):\n",
    "        if s[i] == last_char:\n",
    "            count +=1\n",
    "            if i == len(s)-1:\n",
    "                final_s = final_s + str(count)\n",
    "            else:\n",
    "                continue\n",
    "        else:\n",
    "            if count>1:\n",
    "                final_s = final_s + str(count)\n",
    "                count = 1\n",
    "            final_s = final_s + s[i] \n",
    "            last_char = s[i]\n",
    "    return final_s\n",
    "                "
   ]
  },
  {
   "cell_type": "code",
   "execution_count": 102,
   "metadata": {},
   "outputs": [
    {
     "data": {
      "text/plain": [
       "'abc3d2e5a'"
      ]
     },
     "execution_count": 102,
     "metadata": {},
     "output_type": "execute_result"
    }
   ],
   "source": [
    "compress_string(input_s)"
   ]
  },
  {
   "cell_type": "code",
   "execution_count": 103,
   "metadata": {},
   "outputs": [],
   "source": [
    "input_s = [\"aeeeeea\", \"\", \"aa\", \"ab\", \"afsgfjkegfk\"]"
   ]
  },
  {
   "cell_type": "code",
   "execution_count": 104,
   "metadata": {},
   "outputs": [
    {
     "data": {
      "text/plain": [
       "['ae5a', '', 'a2', 'ab', 'afsgfjkegfk']"
      ]
     },
     "execution_count": 104,
     "metadata": {},
     "output_type": "execute_result"
    }
   ],
   "source": [
    "[compress_string(i) for i in input_s]"
   ]
  },
  {
   "cell_type": "code",
   "execution_count": null,
   "metadata": {},
   "outputs": [],
   "source": []
  }
 ],
 "metadata": {
  "kernelspec": {
   "display_name": "Python 3",
   "language": "python",
   "name": "python3"
  },
  "language_info": {
   "codemirror_mode": {
    "name": "ipython",
    "version": 3
   },
   "file_extension": ".py",
   "mimetype": "text/x-python",
   "name": "python",
   "nbconvert_exporter": "python",
   "pygments_lexer": "ipython3",
   "version": "3.7.2"
  }
 },
 "nbformat": 4,
 "nbformat_minor": 2
}
