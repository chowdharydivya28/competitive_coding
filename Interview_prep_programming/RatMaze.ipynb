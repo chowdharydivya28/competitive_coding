{
 "cells": [
  {
   "cell_type": "markdown",
   "metadata": {},
   "source": [
    "Consider a rat placed at (0, 0) in a square matrix m[ ][ ] of order n and has to reach the destination at (n-1, n-1). The task is to find a sorted array of strings denoting all the possible directions which the rat can take to reach the destination at (n-1, n-1). The directions in which the rat can move are ‘U'(up), ‘D'(down), ‘L’ (left), ‘R’ (right)."
   ]
  },
  {
   "cell_type": "code",
   "execution_count": 1,
   "metadata": {},
   "outputs": [],
   "source": [
    "input_mat = [[1, 0, 0, 0, 0 ], [1, 1, 1, 1, 1 ], [1, 1, 1, 0, 1], [0, 0, 0, 0, 1], [0, 0, 0, 0, 1]]"
   ]
  },
  {
   "cell_type": "code",
   "execution_count": 2,
   "metadata": {},
   "outputs": [
    {
     "data": {
      "text/plain": [
       "[[1, 0, 0, 0, 0],\n",
       " [1, 1, 1, 1, 1],\n",
       " [1, 1, 1, 0, 1],\n",
       " [0, 0, 0, 0, 1],\n",
       " [0, 0, 0, 0, 1]]"
      ]
     },
     "execution_count": 2,
     "metadata": {},
     "output_type": "execute_result"
    }
   ],
   "source": [
    "input_mat"
   ]
  },
  {
   "cell_type": "code",
   "execution_count": 45,
   "metadata": {},
   "outputs": [],
   "source": [
    "def valid_loc(i, j, input_mat):\n",
    "    rows = len(input_mat)\n",
    "    cols = len(input_mat[0])\n",
    "    return i<rows and j<cols and i>=0 and j>=0\n",
    "def dfs_path(row, col, path, input_mat, visited):\n",
    "#     print(\"row, col\", row, col)\n",
    "#     print(\"path:\", path)\n",
    "    rows = len(input_mat)\n",
    "    cols = len(input_mat[0])\n",
    "    if row == rows-1 and col == cols-1:\n",
    "        print(path)\n",
    "    visited[(row,col)] = True\n",
    "    if valid_loc(row+1, col, input_mat) and input_mat[row+1][col] and not visited[(row+1, col)]:\n",
    "        dfs_path(row+1, col, path+\"D\", input_mat, visited)\n",
    "    if valid_loc(row, col-1, input_mat) and input_mat[row][col-1] and not visited[(row, col-1)]:\n",
    "        dfs_path(row, col-1, path+\"L\", input_mat, visited)\n",
    "    if valid_loc(row, col+1, input_mat) and input_mat[row][col+1] and not visited[(row, col+1)]:\n",
    "        dfs_path(row, col+1, path+\"R\", input_mat, visited)\n",
    "    if valid_loc(row-1, col, input_mat) and input_mat[row-1][col] and not visited[(row-1, col)]:\n",
    "        dfs_path(row-1, col, path+\"U\", input_mat, visited)\n",
    "    visited[(row, col)] = False\n",
    "        \n",
    "    "
   ]
  },
  {
   "cell_type": "code",
   "execution_count": 46,
   "metadata": {},
   "outputs": [
    {
     "data": {
      "text/plain": [
       "True"
      ]
     },
     "execution_count": 46,
     "metadata": {},
     "output_type": "execute_result"
    }
   ],
   "source": [
    "valid_loc(1, 4, input_mat)"
   ]
  },
  {
   "cell_type": "code",
   "execution_count": 47,
   "metadata": {},
   "outputs": [
    {
     "name": "stdout",
     "output_type": "stream",
     "text": [
      "DDRRURRDDD\n",
      "DDRURRRDDD\n",
      "DRDRURRDDD\n",
      "DRRRRDDD\n"
     ]
    }
   ],
   "source": [
    "visited = {}\n",
    "for i in range(len(input_mat)):\n",
    "    for j in range(len(input_mat[0])):\n",
    "        visited[(i,j)] = False\n",
    "dfs_path(0, 0, \"\", input_mat, visited)"
   ]
  },
  {
   "cell_type": "code",
   "execution_count": null,
   "metadata": {},
   "outputs": [],
   "source": []
  },
  {
   "cell_type": "code",
   "execution_count": null,
   "metadata": {},
   "outputs": [],
   "source": []
  }
 ],
 "metadata": {
  "kernelspec": {
   "display_name": "Python 3",
   "language": "python",
   "name": "python3"
  },
  "language_info": {
   "codemirror_mode": {
    "name": "ipython",
    "version": 3
   },
   "file_extension": ".py",
   "mimetype": "text/x-python",
   "name": "python",
   "nbconvert_exporter": "python",
   "pygments_lexer": "ipython3",
   "version": "3.7.2"
  }
 },
 "nbformat": 4,
 "nbformat_minor": 2
}
