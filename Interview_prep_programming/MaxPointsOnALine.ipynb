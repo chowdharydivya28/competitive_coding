{
 "cells": [
  {
   "cell_type": "code",
   "execution_count": 1,
   "metadata": {},
   "outputs": [],
   "source": [
    "points = [[1,1],[3,2],[5,3],[4,1],[2,3],[1,4]]"
   ]
  },
  {
   "cell_type": "code",
   "execution_count": 2,
   "metadata": {},
   "outputs": [],
   "source": [
    "from itertools import combinations"
   ]
  },
  {
   "cell_type": "code",
   "execution_count": 3,
   "metadata": {},
   "outputs": [],
   "source": [
    "comb = combinations(points, 2)"
   ]
  },
  {
   "cell_type": "code",
   "execution_count": 4,
   "metadata": {},
   "outputs": [
    {
     "data": {
      "text/plain": [
       "<itertools.combinations at 0x111b14868>"
      ]
     },
     "execution_count": 4,
     "metadata": {},
     "output_type": "execute_result"
    }
   ],
   "source": [
    "comb"
   ]
  },
  {
   "cell_type": "code",
   "execution_count": 5,
   "metadata": {},
   "outputs": [
    {
     "name": "stdout",
     "output_type": "stream",
     "text": [
      "([1, 1], [3, 2])\n",
      "([1, 1], [5, 3])\n",
      "([1, 1], [4, 1])\n",
      "([1, 1], [2, 3])\n",
      "([1, 1], [1, 4])\n",
      "([3, 2], [5, 3])\n",
      "([3, 2], [4, 1])\n",
      "([3, 2], [2, 3])\n",
      "([3, 2], [1, 4])\n",
      "([5, 3], [4, 1])\n",
      "([5, 3], [2, 3])\n",
      "([5, 3], [1, 4])\n",
      "([4, 1], [2, 3])\n",
      "([4, 1], [1, 4])\n",
      "([2, 3], [1, 4])\n"
     ]
    }
   ],
   "source": [
    "for i in comb:\n",
    "    print(i)"
   ]
  },
  {
   "cell_type": "code",
   "execution_count": 10,
   "metadata": {},
   "outputs": [
    {
     "name": "stdout",
     "output_type": "stream",
     "text": [
      "4\n",
      "{0.5: [[1, 1], [3, 2], [5, 3]], 0.0: [[1, 1], [4, 1], [5, 3], [2, 3]], 2.0: [[1, 1], [2, 3], [5, 3], [4, 1]], None: [[1, 1], [1, 4]], -1.0: [[3, 2], [4, 1], [2, 3], [1, 4]], -0.25: [[5, 3], [1, 4]]}\n"
     ]
    }
   ],
   "source": [
    "slopes = {}\n",
    "slopes_cnt = {}\n",
    "comb = combinations(points, 2)\n",
    "for i in comb:\n",
    "    p1 = i[0]\n",
    "    p2 = i[1]\n",
    "    slp = (p2[1]-p1[1])/(p2[0]-p1[0]) if (p2[0]-p1[0]) != 0 else None\n",
    "    if slp in slopes:\n",
    "        if p1 not in slopes[slp]:\n",
    "            slopes[slp].append(p1)\n",
    "            slopes_cnt[slp] += 1\n",
    "        if p2 not in slopes[slp]:\n",
    "            slopes[slp].append(p2)\n",
    "            slopes_cnt[slp] += 1\n",
    "    else:\n",
    "        if p1 == p2:\n",
    "            slopes[slp] = [p1]\n",
    "            slopes_cnt[slp] = 1\n",
    "        else:\n",
    "            slopes[slp] = [p1, p2]\n",
    "            slopes_cnt[slp] = 2\n",
    "            \n",
    "\n",
    "print(max(slopes_cnt.values()))\n",
    "print(slopes)  \n",
    "        "
   ]
  },
  {
   "cell_type": "markdown",
   "metadata": {},
   "source": [
    "#### Solution that caters to duplicate points in the input \n"
   ]
  },
  {
   "cell_type": "code",
   "execution_count": 21,
   "metadata": {},
   "outputs": [],
   "source": [
    "from itertools import combinations\n",
    "from fractions import Fraction\n",
    "from collections import defaultdict, Counter\n",
    "import math\n",
    "def maxPoints(points):\n",
    "        if len(points) == 0:\n",
    "            return len(points)\n",
    "        points = list(map(tuple, points)) # Convert to tuples to allow hashing\n",
    "        points_counter = Counter(points)\n",
    "        unique_points = list(points_counter.keys())\n",
    "        if len(unique_points) == 1:\n",
    "            return len(points)\n",
    "    \n",
    "        else:\n",
    "            best_line_n_points = 0\n",
    "            for i, p1 in enumerate(unique_points):\n",
    "                x1, y1 = p1\n",
    "\n",
    "                # Any line originating at this point already by definition has point(s) on it\n",
    "                points_by_slope = defaultdict(lambda: points_counter[p1])\n",
    "                for p2 in unique_points[i+1:]:\n",
    "                    x2, y2 = p2\n",
    "                    try:\n",
    "                        slope = Fraction(y2-y1, x2-x1)\n",
    "                    except ZeroDivisionError:\n",
    "                        slope = math.inf\n",
    "\n",
    "                    points_by_slope[slope] += points_counter[p2]\n",
    "                    if points_by_slope[slope] > best_line_n_points:\n",
    "                        best_line_n_points = points_by_slope[slope]\n",
    "\n",
    "            return best_line_n_points\n",
    "            "
   ]
  },
  {
   "cell_type": "code",
   "execution_count": 22,
   "metadata": {},
   "outputs": [
    {
     "data": {
      "text/plain": [
       "4"
      ]
     },
     "execution_count": 22,
     "metadata": {},
     "output_type": "execute_result"
    }
   ],
   "source": [
    "maxPoints(points)"
   ]
  },
  {
   "cell_type": "code",
   "execution_count": null,
   "metadata": {},
   "outputs": [],
   "source": []
  }
 ],
 "metadata": {
  "kernelspec": {
   "display_name": "Python 3",
   "language": "python",
   "name": "python3"
  },
  "language_info": {
   "codemirror_mode": {
    "name": "ipython",
    "version": 3
   },
   "file_extension": ".py",
   "mimetype": "text/x-python",
   "name": "python",
   "nbconvert_exporter": "python",
   "pygments_lexer": "ipython3",
   "version": "3.7.2"
  }
 },
 "nbformat": 4,
 "nbformat_minor": 2
}
