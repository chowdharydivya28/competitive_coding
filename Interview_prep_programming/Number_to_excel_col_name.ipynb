{
 "cells": [
  {
   "cell_type": "code",
   "execution_count": 49,
   "metadata": {},
   "outputs": [],
   "source": [
    "#Input: number 1 or more \n",
    "#Output: column name in Excel - A, B, C, .... Z, AA, AB, ....AZ, BA, BB ...., ZZZZZZZZZZZZZ\n",
    "#\n",
    "#v 22  \n",
    "#w 23  \n",
    "#x 24  \n",
    "#y 25 \n",
    "#z 26\n",
    "#aa 27 \n",
    "#bb 54\n",
    "\n",
    "max_len = len(\"ZZZZZZZZZZZZZ\")\n",
    "\n",
    "dict_lookup = {1: \"A\", 2: \"B\", 3:\"C\", 4:\"D\", 5:\"E\", 6:\"F\", 7:\"G\", 8:\"H\", 9:\"I\", 10:\"J\", 11:\"K\", 12:\"L\", 13:\"M\", 14:\"N\", 15:\"O\", \n",
    "               16:\"P\", 17:\"Q\", 18:\"R\", 19:\"S\", 20:\"T\", 21:\"U\", 22:\"V\", 23:\"W\", 24:\"X\", 25:\"Y\", 26:\"Z\"}\n",
    "#5-aa\n",
    "def find_tab_given_number(n):\n",
    "    if n in dict_lookup:\n",
    "        return dict_lookup[n]\n",
    "    tab_val = \"\"\n",
    "    rem = 0\n",
    "    while n>0:\n",
    "        n, rem= divmod(n-1, 26)\n",
    "#         tab_val = tab_val+dict_lookup[n]\n",
    "        tab_val = dict_lookup[rem+1] + tab_val\n",
    "    return tab_val\n",
    "        "
   ]
  },
  {
   "cell_type": "code",
   "execution_count": 53,
   "metadata": {},
   "outputs": [
    {
     "data": {
      "text/plain": [
       "'NTP'"
      ]
     },
     "execution_count": 53,
     "metadata": {},
     "output_type": "execute_result"
    }
   ],
   "source": [
    "find_tab_given_number(10000)"
   ]
  },
  {
   "cell_type": "code",
   "execution_count": 36,
   "metadata": {},
   "outputs": [
    {
     "data": {
      "text/plain": [
       "13"
      ]
     },
     "execution_count": 36,
     "metadata": {},
     "output_type": "execute_result"
    }
   ],
   "source": [
    "max_len\n"
   ]
  },
  {
   "cell_type": "code",
   "execution_count": 32,
   "metadata": {},
   "outputs": [],
   "source": [
    "def printString(n): \n",
    "  \n",
    "    # To store result (Excel column name) \n",
    "    string = [\"\\0\"] * 50\n",
    "  \n",
    "    # To store current index in str which is result \n",
    "    i = 0\n",
    "  \n",
    "    while n > 0: \n",
    "        # Find remainder \n",
    "        rem = n % 26\n",
    "        print(rem)\n",
    "        print(string)\n",
    "  \n",
    "        # if remainder is 0, then a  \n",
    "        # 'Z' must be there in output \n",
    "        if rem == 0: \n",
    "            string[i] = 'Z'\n",
    "            i += 1\n",
    "            n = (n / 26) - 1\n",
    "        else: \n",
    "            string[i] = dict_lookup[rem]\n",
    "            i += 1\n",
    "            n = n / 26\n",
    "    string[i] = '\\0'\n",
    "  \n",
    "    # Reverse the string and print result \n",
    "    string = string[::-1] \n",
    "    string = \"\".join(string) \n",
    "    return string"
   ]
  },
  {
   "cell_type": "code",
   "execution_count": 33,
   "metadata": {},
   "outputs": [
    {
     "name": "stdout",
     "output_type": "stream",
     "text": [
      "1\n",
      "['\\x00', '\\x00', '\\x00', '\\x00', '\\x00', '\\x00', '\\x00', '\\x00', '\\x00', '\\x00', '\\x00', '\\x00', '\\x00', '\\x00', '\\x00', '\\x00', '\\x00', '\\x00', '\\x00', '\\x00', '\\x00', '\\x00', '\\x00', '\\x00', '\\x00', '\\x00', '\\x00', '\\x00', '\\x00', '\\x00', '\\x00', '\\x00', '\\x00', '\\x00', '\\x00', '\\x00', '\\x00', '\\x00', '\\x00', '\\x00', '\\x00', '\\x00', '\\x00', '\\x00', '\\x00', '\\x00', '\\x00', '\\x00', '\\x00', '\\x00']\n",
      "1.0384615384615385\n",
      "['A', '\\x00', '\\x00', '\\x00', '\\x00', '\\x00', '\\x00', '\\x00', '\\x00', '\\x00', '\\x00', '\\x00', '\\x00', '\\x00', '\\x00', '\\x00', '\\x00', '\\x00', '\\x00', '\\x00', '\\x00', '\\x00', '\\x00', '\\x00', '\\x00', '\\x00', '\\x00', '\\x00', '\\x00', '\\x00', '\\x00', '\\x00', '\\x00', '\\x00', '\\x00', '\\x00', '\\x00', '\\x00', '\\x00', '\\x00', '\\x00', '\\x00', '\\x00', '\\x00', '\\x00', '\\x00', '\\x00', '\\x00', '\\x00', '\\x00']\n"
     ]
    },
    {
     "ename": "KeyError",
     "evalue": "1.0384615384615385",
     "output_type": "error",
     "traceback": [
      "\u001b[0;31m---------------------------------------------------------------------------\u001b[0m",
      "\u001b[0;31mKeyError\u001b[0m                                  Traceback (most recent call last)",
      "\u001b[0;32m<ipython-input-33-e2e67b2184ad>\u001b[0m in \u001b[0;36m<module>\u001b[0;34m\u001b[0m\n\u001b[0;32m----> 1\u001b[0;31m \u001b[0mprintString\u001b[0m\u001b[0;34m(\u001b[0m\u001b[0;36m27\u001b[0m\u001b[0;34m)\u001b[0m\u001b[0;34m\u001b[0m\u001b[0;34m\u001b[0m\u001b[0m\n\u001b[0m",
      "\u001b[0;32m<ipython-input-32-bf1b540cba94>\u001b[0m in \u001b[0;36mprintString\u001b[0;34m(n)\u001b[0m\n\u001b[1;32m     20\u001b[0m             \u001b[0mn\u001b[0m \u001b[0;34m=\u001b[0m \u001b[0;34m(\u001b[0m\u001b[0mn\u001b[0m \u001b[0;34m/\u001b[0m \u001b[0;36m26\u001b[0m\u001b[0;34m)\u001b[0m \u001b[0;34m-\u001b[0m \u001b[0;36m1\u001b[0m\u001b[0;34m\u001b[0m\u001b[0;34m\u001b[0m\u001b[0m\n\u001b[1;32m     21\u001b[0m         \u001b[0;32melse\u001b[0m\u001b[0;34m:\u001b[0m\u001b[0;34m\u001b[0m\u001b[0;34m\u001b[0m\u001b[0m\n\u001b[0;32m---> 22\u001b[0;31m             \u001b[0mstring\u001b[0m\u001b[0;34m[\u001b[0m\u001b[0mi\u001b[0m\u001b[0;34m]\u001b[0m \u001b[0;34m=\u001b[0m \u001b[0mdict_lookup\u001b[0m\u001b[0;34m[\u001b[0m\u001b[0mrem\u001b[0m\u001b[0;34m]\u001b[0m\u001b[0;34m\u001b[0m\u001b[0;34m\u001b[0m\u001b[0m\n\u001b[0m\u001b[1;32m     23\u001b[0m             \u001b[0mi\u001b[0m \u001b[0;34m+=\u001b[0m \u001b[0;36m1\u001b[0m\u001b[0;34m\u001b[0m\u001b[0;34m\u001b[0m\u001b[0m\n\u001b[1;32m     24\u001b[0m             \u001b[0mn\u001b[0m \u001b[0;34m=\u001b[0m \u001b[0mn\u001b[0m \u001b[0;34m/\u001b[0m \u001b[0;36m26\u001b[0m\u001b[0;34m\u001b[0m\u001b[0;34m\u001b[0m\u001b[0m\n",
      "\u001b[0;31mKeyError\u001b[0m: 1.0384615384615385"
     ]
    }
   ],
   "source": [
    "printString(27)"
   ]
  },
  {
   "cell_type": "code",
   "execution_count": null,
   "metadata": {},
   "outputs": [],
   "source": []
  }
 ],
 "metadata": {
  "kernelspec": {
   "display_name": "Python 3",
   "language": "python",
   "name": "python3"
  },
  "language_info": {
   "codemirror_mode": {
    "name": "ipython",
    "version": 3
   },
   "file_extension": ".py",
   "mimetype": "text/x-python",
   "name": "python",
   "nbconvert_exporter": "python",
   "pygments_lexer": "ipython3",
   "version": "3.7.2"
  }
 },
 "nbformat": 4,
 "nbformat_minor": 2
}
