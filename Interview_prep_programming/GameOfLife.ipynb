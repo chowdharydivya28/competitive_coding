{
 "cells": [
  {
   "cell_type": "code",
   "execution_count": 45,
   "metadata": {},
   "outputs": [],
   "source": [
    "class Solution:\n",
    "    def gameOfLife(self, board):\n",
    "        \"\"\"\n",
    "        Do not return anything, modify board in-place instead.\n",
    "        \"\"\"\n",
    "        self.row = len(board)\n",
    "        self.col = len(board[0])\n",
    "        self.neigh = [(-1, -1), (-1, 0), (-1, 1), (0, -1), (0,1), (1, -1), (1, 0), (1, 1)]\n",
    "        \n",
    "    def get_neighbors(self, i, j):\n",
    "        neighbors = [[i+k[0], j+k[1]] for k in self.neigh]\n",
    "        neighbors_feas = [i for i in neighbors if (i[0] < self.row and i[0] >=0) and (i[1] < self.col and i[1]>=0)]\n",
    "        return neighbors_feas\n",
    "                \n",
    "    def change_board_state(self, board):\n",
    "        neighbour_alive = {}\n",
    "        for i in range(self.row):\n",
    "            for j in range(self.col):\n",
    "                neighb = self.get_neighbors(i, j)\n",
    "                neighb_val = [board[k[0]][k[1]] for k in neighb]\n",
    "                neighb_alive = sum(neighb_val)\n",
    "                neighbour_alive[(i,j)] = neighb_alive\n",
    "        print(neighbour_alive)\n",
    "        for k in neighbour_alive.keys():\n",
    "            if board[k[0]][k[1]] == 1:\n",
    "                if neighbour_alive[k] < 2 or neighbour_alive[k] >3:\n",
    "                    board[k[0]][k[1]] = 0\n",
    "            else:\n",
    "                if neighbour_alive[k] == 3:\n",
    "                    board[k[0]][k[1]] = 1\n"
   ]
  },
  {
   "cell_type": "code",
   "execution_count": 46,
   "metadata": {},
   "outputs": [],
   "source": [
    "board = [[0, 1, 0], [0, 0, 1], [1, 1, 1], [0, 0, 0]]"
   ]
  },
  {
   "cell_type": "code",
   "execution_count": 47,
   "metadata": {},
   "outputs": [
    {
     "name": "stdout",
     "output_type": "stream",
     "text": [
      "{(0, 0): 1, (0, 1): 1, (0, 2): 2, (1, 0): 3, (1, 1): 5, (1, 2): 3, (2, 0): 1, (2, 1): 3, (2, 2): 2, (3, 0): 2, (3, 1): 3, (3, 2): 2}\n"
     ]
    }
   ],
   "source": [
    "s = Solution()\n",
    "s.gameOfLife(board)\n",
    "s.change_board_state(board)"
   ]
  },
  {
   "cell_type": "code",
   "execution_count": 48,
   "metadata": {},
   "outputs": [
    {
     "data": {
      "text/plain": [
       "[[0, 0, 0], [1, 0, 1], [0, 1, 1], [0, 1, 0]]"
      ]
     },
     "execution_count": 48,
     "metadata": {},
     "output_type": "execute_result"
    }
   ],
   "source": [
    "board"
   ]
  },
  {
   "cell_type": "code",
   "execution_count": null,
   "metadata": {},
   "outputs": [],
   "source": []
  }
 ],
 "metadata": {
  "kernelspec": {
   "display_name": "Python 3",
   "language": "python",
   "name": "python3"
  },
  "language_info": {
   "codemirror_mode": {
    "name": "ipython",
    "version": 3
   },
   "file_extension": ".py",
   "mimetype": "text/x-python",
   "name": "python",
   "nbconvert_exporter": "python",
   "pygments_lexer": "ipython3",
   "version": "3.7.2"
  }
 },
 "nbformat": 4,
 "nbformat_minor": 2
}
