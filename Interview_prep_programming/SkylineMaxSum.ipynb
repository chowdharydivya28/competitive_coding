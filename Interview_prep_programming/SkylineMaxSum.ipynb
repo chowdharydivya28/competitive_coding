{
 "cells": [
  {
   "cell_type": "code",
   "execution_count": 1,
   "metadata": {},
   "outputs": [],
   "source": [
    "grid = [ [3, 0, 8, 4], \n",
    "  [2, 4, 5, 7],\n",
    "  [9, 2, 6, 3],\n",
    "  [0, 3, 1, 0] ]"
   ]
  },
  {
   "cell_type": "code",
   "execution_count": 16,
   "metadata": {},
   "outputs": [
    {
     "name": "stdout",
     "output_type": "stream",
     "text": [
      "{0: 9, 1: 4, 2: 8, 3: 7}\n"
     ]
    }
   ],
   "source": [
    "max_sum = 0\n",
    "max_col = {}\n",
    "for c in range(len(grid[0])):\n",
    "    col = [row[c] for row in grid]\n",
    "    max_col[c] = max(col)\n",
    "print(max_col)  \n",
    "for i in range(len(grid)):\n",
    "    max_row = max(grid[i])\n",
    "    for j in range(len(grid[0])):\n",
    "        max_sum += min(max_row, max_col[j]) - grid[i][j]"
   ]
  },
  {
   "cell_type": "code",
   "execution_count": 17,
   "metadata": {},
   "outputs": [
    {
     "data": {
      "text/plain": [
       "35"
      ]
     },
     "execution_count": 17,
     "metadata": {},
     "output_type": "execute_result"
    }
   ],
   "source": [
    "max_sum"
   ]
  },
  {
   "cell_type": "code",
   "execution_count": null,
   "metadata": {},
   "outputs": [],
   "source": []
  }
 ],
 "metadata": {
  "kernelspec": {
   "display_name": "Python 3",
   "language": "python",
   "name": "python3"
  },
  "language_info": {
   "codemirror_mode": {
    "name": "ipython",
    "version": 3
   },
   "file_extension": ".py",
   "mimetype": "text/x-python",
   "name": "python",
   "nbconvert_exporter": "python",
   "pygments_lexer": "ipython3",
   "version": "3.7.2"
  }
 },
 "nbformat": 4,
 "nbformat_minor": 2
}
