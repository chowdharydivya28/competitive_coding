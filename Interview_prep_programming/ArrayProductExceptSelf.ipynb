{
 "cells": [
  {
   "cell_type": "code",
   "execution_count": 1,
   "metadata": {},
   "outputs": [],
   "source": [
    "def productExceptSelf(nums):\n",
    "    productForward = [1]\n",
    "    productBackward = [1]\n",
    "    result = []\n",
    "\n",
    "\n",
    "    for i, num in enumerate(nums[:len(nums)-1]):\n",
    "        previousProduct = productForward[i]\n",
    "        productForward.append(num*previousProduct)\n",
    "    print(productForward)\n",
    "\n",
    "    numsReversed = nums[::-1]\n",
    "    print(numsReversed)\n",
    "\n",
    "    for i, num in enumerate(numsReversed[:len(nums)-1]):\n",
    "        previousProduct = productBackward[i]\n",
    "        productBackward.append(num*previousProduct)\n",
    "\n",
    "    productBackwardReversed = productBackward[::-1]\n",
    "    print(productBackwardReversed)\n",
    "\n",
    "    for i, product in enumerate(productForward):\n",
    "        print(i)\n",
    "        forward = productForward[i]\n",
    "        print(forward)\n",
    "        backward = productBackwardReversed[i]\n",
    "        print(backward)\n",
    "        result.append(forward*backward)\n",
    "\n",
    "    return result"
   ]
  },
  {
   "cell_type": "code",
   "execution_count": 2,
   "metadata": {},
   "outputs": [],
   "source": [
    "a = [1, 2, 3, 4]"
   ]
  },
  {
   "cell_type": "code",
   "execution_count": 3,
   "metadata": {},
   "outputs": [
    {
     "name": "stdout",
     "output_type": "stream",
     "text": [
      "[1, 1, 2, 6]\n",
      "[4, 3, 2, 1]\n",
      "[24, 12, 4, 1]\n",
      "0\n",
      "1\n",
      "24\n",
      "1\n",
      "1\n",
      "12\n",
      "2\n",
      "2\n",
      "4\n",
      "3\n",
      "6\n",
      "1\n"
     ]
    },
    {
     "data": {
      "text/plain": [
       "[24, 12, 8, 6]"
      ]
     },
     "execution_count": 3,
     "metadata": {},
     "output_type": "execute_result"
    }
   ],
   "source": [
    "productExceptSelf(a)"
   ]
  },
  {
   "cell_type": "code",
   "execution_count": null,
   "metadata": {},
   "outputs": [],
   "source": []
  }
 ],
 "metadata": {
  "kernelspec": {
   "display_name": "Python 3",
   "language": "python",
   "name": "python3"
  },
  "language_info": {
   "codemirror_mode": {
    "name": "ipython",
    "version": 3
   },
   "file_extension": ".py",
   "mimetype": "text/x-python",
   "name": "python",
   "nbconvert_exporter": "python",
   "pygments_lexer": "ipython3",
   "version": "3.7.2"
  }
 },
 "nbformat": 4,
 "nbformat_minor": 2
}
