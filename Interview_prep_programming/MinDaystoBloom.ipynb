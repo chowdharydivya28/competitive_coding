{
 "cells": [
  {
   "cell_type": "markdown",
   "metadata": {},
   "source": [
    "Given an array of roses. roses[i] means rose i will bloom on day roses[i]. Also given an int k, which is the minimum number of adjacent bloom roses required for a bouquet, and an int n, which is the number of bouquets we need. Return the earliest day that we can get n bouquets of roses.\n",
    "\n",
    "Example:\n",
    "Input: roses = [1, 2, 4, 9, 3, 4, 1], k = 2, n = 2\n",
    "Output: 4\n",
    "Explanation:\n",
    "day 1: [b, n, n, n, n, n, b]\n",
    "The first and the last rose bloom.\n",
    "\n",
    "day 2: [b, b, n, n, n, n, b]\n",
    "The second rose blooms. Here the first two bloom roses make a bouquet.\n",
    "\n",
    "day 3: [b, b, n, n, b, n, b]\n",
    "\n",
    "day 4: [b, b, b, n, b, b, b]\n",
    "Here the last three bloom roses make a bouquet, meeting the required n = 2 bouquets of bloom roses. So return day 4."
   ]
  },
  {
   "cell_type": "code",
   "execution_count": 5,
   "metadata": {},
   "outputs": [],
   "source": [
    "from collections import Counter, OrderedDict\n",
    "def minDaysBloom(roses, k, n):\n",
    "    if len(roses) == 0 or n == 0 or k==0:\n",
    "        return 0\n",
    "    else:\n",
    "        daily_blooms = OrderedDict(sorted(Counter(roses).items()))\n",
    "        blooms_so_far = 0\n",
    "        for key, v in daily_blooms.items():\n",
    "            if blooms_so_far%k == 0 and blooms_so_far == k*n:\n",
    "                return key\n",
    "            blooms_so_far += v\n",
    "    return -1\n",
    "            "
   ]
  },
  {
   "cell_type": "code",
   "execution_count": 6,
   "metadata": {},
   "outputs": [],
   "source": [
    " roses, k, n = [1, 2, 4, 9, 3, 4, 1], 2, 2 "
   ]
  },
  {
   "cell_type": "code",
   "execution_count": 7,
   "metadata": {},
   "outputs": [
    {
     "data": {
      "text/plain": [
       "4"
      ]
     },
     "execution_count": 7,
     "metadata": {},
     "output_type": "execute_result"
    }
   ],
   "source": [
    "minDaysBloom(roses, k, n)"
   ]
  },
  {
   "cell_type": "code",
   "execution_count": 8,
   "metadata": {},
   "outputs": [],
   "source": [
    "roses, k, n = [1], 2, 2 "
   ]
  },
  {
   "cell_type": "code",
   "execution_count": 9,
   "metadata": {},
   "outputs": [
    {
     "data": {
      "text/plain": [
       "-1"
      ]
     },
     "execution_count": 9,
     "metadata": {},
     "output_type": "execute_result"
    }
   ],
   "source": [
    "minDaysBloom(roses, k, n)"
   ]
  },
  {
   "cell_type": "code",
   "execution_count": null,
   "metadata": {},
   "outputs": [],
   "source": []
  }
 ],
 "metadata": {
  "kernelspec": {
   "display_name": "Python 3",
   "language": "python",
   "name": "python3"
  },
  "language_info": {
   "codemirror_mode": {
    "name": "ipython",
    "version": 3
   },
   "file_extension": ".py",
   "mimetype": "text/x-python",
   "name": "python",
   "nbconvert_exporter": "python",
   "pygments_lexer": "ipython3",
   "version": "3.7.2"
  }
 },
 "nbformat": 4,
 "nbformat_minor": 2
}
