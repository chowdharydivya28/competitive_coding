{
 "cells": [
  {
   "cell_type": "markdown",
   "metadata": {},
   "source": [
    "There are given n ropes of different lengths, we need to connect these ropes into one rope. The cost to connect two ropes is equal to sum of their lengths.We need to connect the ropes with minimum cost. \n",
    "\n",
    "GREEDY WITH A MIN HEAP \n",
    "\n",
    "Time Complexity : O(nlogn) - creating the min heap"
   ]
  },
  {
   "cell_type": "code",
   "execution_count": 31,
   "metadata": {},
   "outputs": [],
   "source": [
    "import heapq\n",
    "def get_mincost_connecting_ropes(nropes):\n",
    "    if len(nropes) == 0:\n",
    "        return 0\n",
    "    if len(nropes) < 3:\n",
    "        return sum(nropes)\n",
    "    li = [i for i in nropes]\n",
    "    min_heap = heapq.heapify(li)\n",
    "    total_sum = 0\n",
    "    while len(li) > 2:\n",
    "        print(\"heap is:\", li)\n",
    "        smallest_2 = heapq.nsmallest(2, li)\n",
    "        for i in smallest_2:\n",
    "            heapq.heappop(li)\n",
    "        sum_smallest_2 = sum(smallest_2)\n",
    "        total_sum += sum_smallest_2\n",
    "        heapq.heappush(li, sum_smallest_2)\n",
    "    total_sum += sum(heapq.nsmallest(2, li))\n",
    "    return total_sum"
   ]
  },
  {
   "cell_type": "code",
   "execution_count": 30,
   "metadata": {},
   "outputs": [
    {
     "name": "stdout",
     "output_type": "stream",
     "text": [
      "heap is: [2, 3, 4, 6]\n",
      "heap is: [4, 6, 5]\n"
     ]
    },
    {
     "data": {
      "text/plain": [
       "29"
      ]
     },
     "execution_count": 30,
     "metadata": {},
     "output_type": "execute_result"
    }
   ],
   "source": [
    "nropes = [4, 3, 2, 6]\n",
    "get_mincost_connecting_ropes(nropes)"
   ]
  },
  {
   "cell_type": "code",
   "execution_count": null,
   "metadata": {},
   "outputs": [],
   "source": []
  }
 ],
 "metadata": {
  "kernelspec": {
   "display_name": "Python 3",
   "language": "python",
   "name": "python3"
  },
  "language_info": {
   "codemirror_mode": {
    "name": "ipython",
    "version": 3
   },
   "file_extension": ".py",
   "mimetype": "text/x-python",
   "name": "python",
   "nbconvert_exporter": "python",
   "pygments_lexer": "ipython3",
   "version": "3.7.2"
  }
 },
 "nbformat": 4,
 "nbformat_minor": 2
}
