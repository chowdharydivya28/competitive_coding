{
 "cells": [
  {
   "cell_type": "code",
   "execution_count": 3,
   "metadata": {},
   "outputs": [],
   "source": [
    "\n",
    "class Node:\n",
    "    def __init__(self, val):\n",
    "        self.val = val\n",
    "        self.left = None\n",
    "        self.right = None\n",
    "        \n",
    "def get_depth(root):\n",
    "        if root is None:\n",
    "            return 0\n",
    "        else:\n",
    "            print(\"value processed:\", root.val)\n",
    "            ldepth = get_depth(root.left) \n",
    "            print(\"ldepth:\", ldepth)\n",
    "            rdepth = get_depth(root.right) \n",
    "            print(\"rdepth:\", rdepth)\n",
    "            if ldepth > rdepth:\n",
    "                return ldepth+1\n",
    "            else:\n",
    "                return rdepth+1"
   ]
  },
  {
   "cell_type": "code",
   "execution_count": 31,
   "metadata": {},
   "outputs": [],
   "source": [
    "root = Node(20)\n",
    "l1 = Node(8)\n",
    "r1 = Node(22)\n",
    "root.left = l1\n",
    "root.right = r1\n",
    "l2 = Node(4)\n",
    "r2 = Node(12)\n",
    "root.left.left = l2\n",
    "root.left.right = r2\n",
    "r3 = Node(25)\n",
    "root.right.right = r3\n",
    "l4 = Node(10)\n",
    "r4 = Node(14)\n",
    "root.left.right.left = l4\n",
    "root.left.right.right = r4"
   ]
  },
  {
   "cell_type": "code",
   "execution_count": 5,
   "metadata": {},
   "outputs": [
    {
     "name": "stdout",
     "output_type": "stream",
     "text": [
      "value processed: 20\n",
      "value processed: 8\n",
      "value processed: 4\n",
      "ldepth: 0\n",
      "rdepth: 0\n",
      "ldepth: 1\n",
      "value processed: 12\n",
      "value processed: 10\n",
      "ldepth: 0\n",
      "rdepth: 0\n",
      "ldepth: 1\n",
      "value processed: 14\n",
      "ldepth: 0\n",
      "rdepth: 0\n",
      "rdepth: 1\n",
      "rdepth: 2\n",
      "ldepth: 3\n",
      "value processed: 22\n",
      "ldepth: 0\n",
      "value processed: 25\n",
      "ldepth: 0\n",
      "rdepth: 0\n",
      "rdepth: 1\n",
      "rdepth: 2\n"
     ]
    },
    {
     "data": {
      "text/plain": [
       "4"
      ]
     },
     "execution_count": 5,
     "metadata": {},
     "output_type": "execute_result"
    }
   ],
   "source": [
    "get_depth(root)"
   ]
  },
  {
   "cell_type": "code",
   "execution_count": null,
   "metadata": {},
   "outputs": [],
   "source": []
  },
  {
   "cell_type": "code",
   "execution_count": null,
   "metadata": {},
   "outputs": [],
   "source": []
  }
 ],
 "metadata": {
  "kernelspec": {
   "display_name": "Python 3",
   "language": "python",
   "name": "python3"
  },
  "language_info": {
   "codemirror_mode": {
    "name": "ipython",
    "version": 3
   },
   "file_extension": ".py",
   "mimetype": "text/x-python",
   "name": "python",
   "nbconvert_exporter": "python",
   "pygments_lexer": "ipython3",
   "version": "3.7.2"
  }
 },
 "nbformat": 4,
 "nbformat_minor": 2
}
